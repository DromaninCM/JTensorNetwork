{
 "cells": [
  {
   "cell_type": "markdown",
   "metadata": {},
   "source": [
    "# TUTORIAL 01: REVIEW OF LINEAR ALGEBRA WITH JULIA\n",
    "\n",
    "In this tutorial we will review the basics of linear algebra with Julia (https://julialang.org). We will employ Julia ver.> 1.0.0.\n",
    "\n",
    "Notice that Julia does not have an analog of MATLAB’s clear function; once a name is defined in a Julia session (technically, in module Main), it is always present.\n",
    "\n",
    "If memory usage is your concern, you can always replace objects with ones that consume less memory. For example, if A is a gigabyte-sized array that you no longer need, you can free the memory with A = 0. The memory will be released the next time the garbage collector runs; you can force this to happen with gc().\n",
    "\n",
    "For a more accurate explanation on the Julia language refer to:\n",
    "\n",
    "- ThinkJulia book (https://benlauwens.github.io/ThinkJulia.jl/latest/book.html)\n",
    "- \"The Julia language handbook\" by G. Root"
   ]
  },
  {
   "cell_type": "markdown",
   "metadata": {},
   "source": [
    "### Loading linear algebra module:\n",
    "\n",
    "The first thing to do is loading the linear algebra module:"
   ]
  },
  {
   "cell_type": "code",
   "execution_count": 1,
   "metadata": {},
   "outputs": [],
   "source": [
    "using LinearAlgebra"
   ]
  },
  {
   "cell_type": "markdown",
   "metadata": {},
   "source": [
    "### Vector and matrix basics\n",
    "\n",
    "In order to define a vector, we use square brackets [ ].\n",
    "Row vectors are defined by separating elements with spaces, column vectors by using semicolumns (;):"
   ]
  },
  {
   "cell_type": "code",
   "execution_count": 2,
   "metadata": {},
   "outputs": [
    {
     "data": {
      "text/plain": [
       "1×3 Array{Int64,2}:\n",
       " 1  2  3"
      ]
     },
     "execution_count": 2,
     "metadata": {},
     "output_type": "execute_result"
    }
   ],
   "source": [
    "a = [1 2 3] # This is a row vector"
   ]
  },
  {
   "cell_type": "code",
   "execution_count": 3,
   "metadata": {},
   "outputs": [
    {
     "data": {
      "text/plain": [
       "3-element Array{Int64,1}:\n",
       " 4\n",
       " 5\n",
       " 6"
      ]
     },
     "execution_count": 3,
     "metadata": {},
     "output_type": "execute_result"
    }
   ],
   "source": [
    "b = [4;5;6] # This is a column vector"
   ]
  },
  {
   "cell_type": "markdown",
   "metadata": {},
   "source": [
    "In order to transpose a column vector we can use either the function transpose() or the apex ('):"
   ]
  },
  {
   "cell_type": "code",
   "execution_count": 4,
   "metadata": {},
   "outputs": [
    {
     "data": {
      "text/plain": [
       "1×3 Transpose{Int64,Array{Int64,1}}:\n",
       " 4  5  6"
      ]
     },
     "execution_count": 4,
     "metadata": {},
     "output_type": "execute_result"
    }
   ],
   "source": [
    "b_row = transpose(b) # 1st way"
   ]
  },
  {
   "cell_type": "code",
   "execution_count": 5,
   "metadata": {},
   "outputs": [
    {
     "data": {
      "text/plain": [
       "1×3 Adjoint{Int64,Array{Int64,1}}:\n",
       " 4  5  6"
      ]
     },
     "execution_count": 5,
     "metadata": {},
     "output_type": "execute_result"
    }
   ],
   "source": [
    "b_row = b' # second way"
   ]
  },
  {
   "cell_type": "markdown",
   "metadata": {},
   "source": [
    "The summation of two vectors can be simply done with +:"
   ]
  },
  {
   "cell_type": "code",
   "execution_count": 6,
   "metadata": {},
   "outputs": [
    {
     "data": {
      "text/plain": [
       "1×3 Array{Int64,2}:\n",
       " 5  7  9"
      ]
     },
     "execution_count": 6,
     "metadata": {},
     "output_type": "execute_result"
    }
   ],
   "source": [
    "c = a+b_row"
   ]
  },
  {
   "cell_type": "markdown",
   "metadata": {},
   "source": [
    "The scalar or dot product can be done either via * or the dot( ) function:"
   ]
  },
  {
   "cell_type": "code",
   "execution_count": 7,
   "metadata": {},
   "outputs": [
    {
     "data": {
      "text/plain": [
       "1-element Array{Int64,1}:\n",
       " 32"
      ]
     },
     "execution_count": 7,
     "metadata": {},
     "output_type": "execute_result"
    }
   ],
   "source": [
    "a*b      # Notice that in this case a must be a row vector and b a column vector"
   ]
  },
  {
   "cell_type": "code",
   "execution_count": 8,
   "metadata": {},
   "outputs": [
    {
     "data": {
      "text/plain": [
       "32"
      ]
     },
     "execution_count": 8,
     "metadata": {},
     "output_type": "execute_result"
    }
   ],
   "source": [
    "dot(a,b) # With this sintax, the order of a and b is indifferent"
   ]
  },
  {
   "cell_type": "markdown",
   "metadata": {},
   "source": [
    "The cross product between two vectors can be done via the cross( ) function:"
   ]
  },
  {
   "cell_type": "code",
   "execution_count": 9,
   "metadata": {},
   "outputs": [
    {
     "data": {
      "text/plain": [
       "3-element Array{Int64,1}:\n",
       " -3\n",
       "  6\n",
       " -3"
      ]
     },
     "execution_count": 9,
     "metadata": {},
     "output_type": "execute_result"
    }
   ],
   "source": [
    "a = [2;3;4];\n",
    "b = [5;6;7];\n",
    "cross(a,b) # The two vectors must be both column vectors."
   ]
  },
  {
   "cell_type": "markdown",
   "metadata": {},
   "source": [
    "Notice that the usual vector/vector-matrix/matrix-matrix multiplication can be done with two different sintaxes:\n",
    "(of course, the dimensions must be congruent)"
   ]
  },
  {
   "cell_type": "code",
   "execution_count": 10,
   "metadata": {},
   "outputs": [
    {
     "data": {
      "text/plain": [
       "1-element Array{Int64,1}:\n",
       " 32"
      ]
     },
     "execution_count": 10,
     "metadata": {},
     "output_type": "execute_result"
    }
   ],
   "source": [
    "a = [1 2 3]; # row vector\n",
    "b = [4;5;6]; # column vector\n",
    "\n",
    "# This product produces a scalar\n",
    "c = a*b\n",
    "c = *(a,b)"
   ]
  },
  {
   "cell_type": "code",
   "execution_count": 11,
   "metadata": {},
   "outputs": [
    {
     "data": {
      "text/plain": [
       "3×3 Array{Int64,2}:\n",
       " 4   8  12\n",
       " 5  10  15\n",
       " 6  12  18"
      ]
     },
     "execution_count": 11,
     "metadata": {},
     "output_type": "execute_result"
    }
   ],
   "source": [
    "# This product produces a (3x3) matrix\n",
    "c = b*a"
   ]
  },
  {
   "cell_type": "markdown",
   "metadata": {},
   "source": [
    "A nxm matrix (n is the number of rows and m is the number of columns) can be defined as:"
   ]
  },
  {
   "cell_type": "code",
   "execution_count": 12,
   "metadata": {},
   "outputs": [
    {
     "data": {
      "text/plain": [
       "3×3 Array{Int64,2}:\n",
       " 1  2  3\n",
       " 4  5  6\n",
       " 7  8  9"
      ]
     },
     "execution_count": 12,
     "metadata": {},
     "output_type": "execute_result"
    }
   ],
   "source": [
    "# A = [11 12 13; 21 22 23; 31 32 33]\n",
    "A = [1 2 3; 4 5 6; 7 8 9]"
   ]
  },
  {
   "cell_type": "markdown",
   "metadata": {},
   "source": [
    "The identity matrix can be generated via Matrix{T}(I, m, n):"
   ]
  },
  {
   "cell_type": "code",
   "execution_count": 13,
   "metadata": {},
   "outputs": [
    {
     "data": {
      "text/plain": [
       "2×2 Array{Bool,2}:\n",
       " 1  0\n",
       " 0  1"
      ]
     },
     "execution_count": 13,
     "metadata": {},
     "output_type": "execute_result"
    }
   ],
   "source": [
    "Identity = Matrix(I, 2, 2)"
   ]
  },
  {
   "cell_type": "markdown",
   "metadata": {},
   "source": [
    "We can also generate vectors with uniformly spaced elements with range(start, stop=stop, step=n):"
   ]
  },
  {
   "cell_type": "code",
   "execution_count": 14,
   "metadata": {},
   "outputs": [
    {
     "data": {
      "text/plain": [
       "1:1:10"
      ]
     },
     "execution_count": 14,
     "metadata": {},
     "output_type": "execute_result"
    }
   ],
   "source": [
    "# This example generate a vector of 10 elements going from 1 to 10\n",
    "A = range(1, stop=10, step=1)"
   ]
  },
  {
   "cell_type": "markdown",
   "metadata": {},
   "source": [
    "Or we can generate a nxm \"vector\" with random entries with rand(n,m): "
   ]
  },
  {
   "cell_type": "code",
   "execution_count": 15,
   "metadata": {},
   "outputs": [
    {
     "data": {
      "text/plain": [
       "3×4 Array{Float64,2}:\n",
       " 0.270878  0.906954  0.615038  0.970401\n",
       " 0.577895  0.402563  0.366652  0.642779\n",
       " 0.705953  0.594204  0.996297  0.869426"
      ]
     },
     "execution_count": 15,
     "metadata": {},
     "output_type": "execute_result"
    }
   ],
   "source": [
    "rand(3,4)"
   ]
  },
  {
   "cell_type": "markdown",
   "metadata": {},
   "source": [
    "We can also generate a nxm \"vector\" with all zeros with zeros(n,m) and with all ones with ones(n,m):"
   ]
  },
  {
   "cell_type": "code",
   "execution_count": 16,
   "metadata": {},
   "outputs": [
    {
     "data": {
      "text/plain": [
       "2×2 Array{Float64,2}:\n",
       " 0.0  0.0\n",
       " 0.0  0.0"
      ]
     },
     "execution_count": 16,
     "metadata": {},
     "output_type": "execute_result"
    }
   ],
   "source": [
    "One   = ones(2,2)\n",
    "Zeros = zeros(2,2)"
   ]
  },
  {
   "cell_type": "markdown",
   "metadata": {},
   "source": [
    "Given an nxm matrix, we can retrieve its size via the function size():"
   ]
  },
  {
   "cell_type": "code",
   "execution_count": 17,
   "metadata": {
    "scrolled": false
   },
   "outputs": [
    {
     "data": {
      "text/plain": [
       "(3, 2)"
      ]
     },
     "execution_count": 17,
     "metadata": {},
     "output_type": "execute_result"
    }
   ],
   "source": [
    "A = rand(3,2)\n",
    "size(A)   # Give all sizes"
   ]
  },
  {
   "cell_type": "code",
   "execution_count": 18,
   "metadata": {},
   "outputs": [
    {
     "data": {
      "text/plain": [
       "3"
      ]
     },
     "execution_count": 18,
     "metadata": {},
     "output_type": "execute_result"
    }
   ],
   "source": [
    "size(A,1) # Give the size of first index"
   ]
  },
  {
   "cell_type": "code",
   "execution_count": 19,
   "metadata": {},
   "outputs": [
    {
     "data": {
      "text/plain": [
       "2"
      ]
     },
     "execution_count": 19,
     "metadata": {},
     "output_type": "execute_result"
    }
   ],
   "source": [
    "size(A,2) # Give the size of second index"
   ]
  },
  {
   "cell_type": "markdown",
   "metadata": {},
   "source": [
    "The number of elements in a \"vector\" is given by the function length( ).\n",
    "The number of dimensions in a \"vector\" is given by the function ndims( )."
   ]
  },
  {
   "cell_type": "code",
   "execution_count": 20,
   "metadata": {},
   "outputs": [
    {
     "data": {
      "text/plain": [
       "6"
      ]
     },
     "execution_count": 20,
     "metadata": {},
     "output_type": "execute_result"
    }
   ],
   "source": [
    "length(A) # Gives the number of elements"
   ]
  },
  {
   "cell_type": "code",
   "execution_count": 21,
   "metadata": {},
   "outputs": [
    {
     "data": {
      "text/plain": [
       "2"
      ]
     },
     "execution_count": 21,
     "metadata": {},
     "output_type": "execute_result"
    }
   ],
   "source": [
    "ndims(A) # Gives the number of dimensions"
   ]
  },
  {
   "cell_type": "markdown",
   "metadata": {},
   "source": [
    "In Julia complex numbers are defined with the imaginary element im (e.g 1+2i can be defined with 1+2*im).\n",
    "We can obtain the hermitian (transpose + complex conjugation) congjugate of a complex matrix with the apex:"
   ]
  },
  {
   "cell_type": "code",
   "execution_count": 22,
   "metadata": {},
   "outputs": [
    {
     "data": {
      "text/plain": [
       "2×2 Array{Complex{Float64},2}:\n",
       "  0.601438+0.881791im   0.137217+0.291629im\n",
       " 0.0304029+0.0777667im   0.77865+0.146024im"
      ]
     },
     "execution_count": 22,
     "metadata": {},
     "output_type": "execute_result"
    }
   ],
   "source": [
    "A = rand(2,2)+im*rand(2,2)"
   ]
  },
  {
   "cell_type": "code",
   "execution_count": 23,
   "metadata": {},
   "outputs": [
    {
     "data": {
      "text/plain": [
       "2×2 Adjoint{Complex{Float64},Array{Complex{Float64},2}}:\n",
       " 0.601438-0.881791im  0.0304029-0.0777667im\n",
       " 0.137217-0.291629im    0.77865-0.146024im "
      ]
     },
     "execution_count": 23,
     "metadata": {},
     "output_type": "execute_result"
    }
   ],
   "source": [
    "A'"
   ]
  },
  {
   "cell_type": "markdown",
   "metadata": {},
   "source": [
    "If we just want the transpose of the matrix (without the complex conjugation) use the function transpose( )."
   ]
  },
  {
   "cell_type": "code",
   "execution_count": 24,
   "metadata": {},
   "outputs": [
    {
     "data": {
      "text/plain": [
       "2×2 Transpose{Complex{Float64},Array{Complex{Float64},2}}:\n",
       " 0.601438+0.881791im  0.0304029+0.0777667im\n",
       " 0.137217+0.291629im    0.77865+0.146024im "
      ]
     },
     "execution_count": 24,
     "metadata": {},
     "output_type": "execute_result"
    }
   ],
   "source": [
    "transpose(A)"
   ]
  },
  {
   "cell_type": "markdown",
   "metadata": {},
   "source": [
    "### Indexing and multi-dimensional arrays\n",
    "\n",
    "It is important to point out that in Julia indexing starts from 1 (and not 0).\n",
    "A multi-dimensional array can be defined for example as:"
   ]
  },
  {
   "cell_type": "code",
   "execution_count": 25,
   "metadata": {},
   "outputs": [
    {
     "data": {
      "text/plain": [
       "3×2×3 Array{Float64,3}:\n",
       "[:, :, 1] =\n",
       " 0.770779  0.217326\n",
       " 0.850629  0.586941\n",
       " 0.253439  0.381223\n",
       "\n",
       "[:, :, 2] =\n",
       " 0.198115   0.148375\n",
       " 0.0552291  0.21178 \n",
       " 0.187874   0.791425\n",
       "\n",
       "[:, :, 3] =\n",
       " 0.314903  0.341947 \n",
       " 0.431324  0.0453083\n",
       " 0.765665  0.18841  "
      ]
     },
     "execution_count": 25,
     "metadata": {},
     "output_type": "execute_result"
    }
   ],
   "source": [
    "A = rand(3,2,3) # it can be viewed as a collection of matrices"
   ]
  },
  {
   "cell_type": "code",
   "execution_count": 26,
   "metadata": {},
   "outputs": [
    {
     "data": {
      "text/plain": [
       "0.21732647935625526"
      ]
     },
     "execution_count": 26,
     "metadata": {},
     "output_type": "execute_result"
    }
   ],
   "source": [
    "A[1,2,1] # Access the 1,2,1 element of A"
   ]
  },
  {
   "cell_type": "code",
   "execution_count": 27,
   "metadata": {},
   "outputs": [
    {
     "data": {
      "text/plain": [
       "2-element Array{Float64,1}:\n",
       " 0.770779453837849  \n",
       " 0.21732647935625526"
      ]
     },
     "execution_count": 27,
     "metadata": {},
     "output_type": "execute_result"
    }
   ],
   "source": [
    "A[1,:,1] # access the elements at row 1 of the first matrix in A"
   ]
  },
  {
   "cell_type": "code",
   "execution_count": 28,
   "metadata": {},
   "outputs": [
    {
     "data": {
      "text/plain": [
       "3×2 Array{Float64,2}:\n",
       " 0.770779  0.217326\n",
       " 0.850629  0.586941\n",
       " 0.253439  0.381223"
      ]
     },
     "execution_count": 28,
     "metadata": {},
     "output_type": "execute_result"
    }
   ],
   "source": [
    "A[:,:,1] # Access the first matrix of A"
   ]
  },
  {
   "cell_type": "code",
   "execution_count": 29,
   "metadata": {},
   "outputs": [
    {
     "data": {
      "text/plain": [
       "18-element Array{Float64,1}:\n",
       " 0.770779453837849  \n",
       " 0.8506292512871718 \n",
       " 0.2534393587594064 \n",
       " 0.21732647935625526\n",
       " 0.5869405194127202 \n",
       " 0.3812231254645535 \n",
       " 0.19811502057020225\n",
       " 0.05522913366632287\n",
       " 0.18787409233441377\n",
       " 0.148374896528509  \n",
       " 0.21177960896874448\n",
       " 0.7914246850694688 \n",
       " 0.3149028190971299 \n",
       " 0.43132397246053666\n",
       " 0.7656647359165629 \n",
       " 0.3419474691776947 \n",
       " 0.04530827528256287\n",
       " 0.18840987851373225"
      ]
     },
     "execution_count": 29,
     "metadata": {},
     "output_type": "execute_result"
    }
   ],
   "source": [
    "A[:] # Column vector with all elements of A"
   ]
  },
  {
   "cell_type": "code",
   "execution_count": 30,
   "metadata": {},
   "outputs": [
    {
     "data": {
      "text/plain": [
       "2×2 Array{Float64,2}:\n",
       " 0.0552291  0.431324\n",
       " 0.187874   0.765665"
      ]
     },
     "execution_count": 30,
     "metadata": {},
     "output_type": "execute_result"
    }
   ],
   "source": [
    "A[2:3,1,2:3] # Submatrix"
   ]
  },
  {
   "cell_type": "code",
   "execution_count": 31,
   "metadata": {},
   "outputs": [
    {
     "data": {
      "text/plain": [
       "3×2 Array{Float64,2}:\n",
       " 0.770779  0.217326\n",
       " 0.850629  0.586941\n",
       " 0.253439  0.381223"
      ]
     },
     "execution_count": 31,
     "metadata": {},
     "output_type": "execute_result"
    }
   ],
   "source": [
    "A[:,1:end,1] # end labels the last index"
   ]
  },
  {
   "cell_type": "code",
   "execution_count": 32,
   "metadata": {},
   "outputs": [
    {
     "data": {
      "text/plain": [
       "3×2×3 view(::Array{Float64,3}, :, :, :) with eltype Float64:\n",
       "[:, :, 1] =\n",
       " 0.0  0.0\n",
       " 0.0  0.0\n",
       " 0.0  0.0\n",
       "\n",
       "[:, :, 2] =\n",
       " 0.0  0.0\n",
       " 0.0  0.0\n",
       " 0.0  0.0\n",
       "\n",
       "[:, :, 3] =\n",
       " 0.0  0.0\n",
       " 0.0  0.0\n",
       " 0.0  0.0"
      ]
     },
     "execution_count": 32,
     "metadata": {},
     "output_type": "execute_result"
    }
   ],
   "source": [
    "A[:,:,:] .= 0 # Initialize the matrix elements to zero"
   ]
  },
  {
   "cell_type": "markdown",
   "metadata": {},
   "source": [
    "### Reshape and permute matrices\n",
    "\n",
    "Return an array with the same data as A, but with different dimension sizes or number of dimensions. We must keep the total number of elements."
   ]
  },
  {
   "cell_type": "code",
   "execution_count": 33,
   "metadata": {},
   "outputs": [
    {
     "data": {
      "text/plain": [
       "1:1:9"
      ]
     },
     "execution_count": 33,
     "metadata": {},
     "output_type": "execute_result"
    }
   ],
   "source": [
    "A = range(1, stop=9, step=1) # row vector"
   ]
  },
  {
   "cell_type": "code",
   "execution_count": 34,
   "metadata": {},
   "outputs": [
    {
     "data": {
      "text/plain": [
       "3×3 reshape(::StepRange{Int64,Int64}, 3, 3) with eltype Int64:\n",
       " 1  4  7\n",
       " 2  5  8\n",
       " 3  6  9"
      ]
     },
     "execution_count": 34,
     "metadata": {},
     "output_type": "execute_result"
    }
   ],
   "source": [
    "B=reshape(A,(3,3)) # reshape the row vector into a 3x3 matrix"
   ]
  },
  {
   "cell_type": "code",
   "execution_count": 35,
   "metadata": {},
   "outputs": [
    {
     "data": {
      "text/plain": [
       "9-element Array{Int64,1}:\n",
       " 1\n",
       " 2\n",
       " 3\n",
       " 4\n",
       " 5\n",
       " 6\n",
       " 7\n",
       " 8\n",
       " 9"
      ]
     },
     "execution_count": 35,
     "metadata": {},
     "output_type": "execute_result"
    }
   ],
   "source": [
    "B[:] # B is the same as A but now it is a column vector"
   ]
  },
  {
   "cell_type": "code",
   "execution_count": 36,
   "metadata": {},
   "outputs": [
    {
     "data": {
      "text/plain": [
       "3×3 Array{Int64,2}:\n",
       " 1  2  3\n",
       " 4  5  6\n",
       " 7  8  9"
      ]
     },
     "execution_count": 36,
     "metadata": {},
     "output_type": "execute_result"
    }
   ],
   "source": [
    "C = permutedims(B,[2,1]) # Permute the dimension of a matrix"
   ]
  },
  {
   "cell_type": "code",
   "execution_count": 37,
   "metadata": {},
   "outputs": [
    {
     "data": {
      "text/plain": [
       "3×3 Transpose{Int64,Base.ReshapedArray{Int64,2,StepRange{Int64,Int64},Tuple{}}}:\n",
       " 1  2  3\n",
       " 4  5  6\n",
       " 7  8  9"
      ]
     },
     "execution_count": 37,
     "metadata": {},
     "output_type": "execute_result"
    }
   ],
   "source": [
    "D = transpose(B) # Notice that transpose( ) is the same as permutedims( )"
   ]
  },
  {
   "cell_type": "markdown",
   "metadata": {},
   "source": [
    "### Summation and product over elements"
   ]
  },
  {
   "cell_type": "code",
   "execution_count": 38,
   "metadata": {},
   "outputs": [
    {
     "data": {
      "text/plain": [
       "45"
      ]
     },
     "execution_count": 38,
     "metadata": {},
     "output_type": "execute_result"
    }
   ],
   "source": [
    "sum(1:9) # Produces a sum over elements going from 1 to 9"
   ]
  },
  {
   "cell_type": "code",
   "execution_count": 39,
   "metadata": {},
   "outputs": [
    {
     "data": {
      "text/plain": [
       "3×3 reshape(::UnitRange{Int64}, 3, 3) with eltype Int64:\n",
       " 1  4  7\n",
       " 2  5  8\n",
       " 3  6  9"
      ]
     },
     "execution_count": 39,
     "metadata": {},
     "output_type": "execute_result"
    }
   ],
   "source": [
    "A = reshape((1:9),(3,3)) # Generate a 3x3 matrix with elements in range (1:9)"
   ]
  },
  {
   "cell_type": "code",
   "execution_count": 40,
   "metadata": {},
   "outputs": [
    {
     "data": {
      "text/plain": [
       "1×3 Array{Int64,2}:\n",
       " 6  15  24"
      ]
     },
     "execution_count": 40,
     "metadata": {},
     "output_type": "execute_result"
    }
   ],
   "source": [
    "sum(A,dims=1) # Gives a row vector whose entries are the sum \n",
    "              # over the columns of A"
   ]
  },
  {
   "cell_type": "code",
   "execution_count": 41,
   "metadata": {},
   "outputs": [
    {
     "data": {
      "text/plain": [
       "3×1 Array{Int64,2}:\n",
       " 12\n",
       " 15\n",
       " 18"
      ]
     },
     "execution_count": 41,
     "metadata": {},
     "output_type": "execute_result"
    }
   ],
   "source": [
    "sum(A,dims=2) # Gives a column vector whose entries are the sum\n",
    "              # over the rows of A"
   ]
  },
  {
   "cell_type": "code",
   "execution_count": 42,
   "metadata": {},
   "outputs": [
    {
     "data": {
      "text/plain": [
       "1×3 Array{Int64,2}:\n",
       " 6  120  504"
      ]
     },
     "execution_count": 42,
     "metadata": {},
     "output_type": "execute_result"
    }
   ],
   "source": [
    "prod(A, dims=1) # Gives a row vector whose entries are the product \n",
    "                # over the columns of A"
   ]
  },
  {
   "cell_type": "code",
   "execution_count": 43,
   "metadata": {},
   "outputs": [
    {
     "data": {
      "text/plain": [
       "3×1 Array{Int64,2}:\n",
       "  28\n",
       "  80\n",
       " 162"
      ]
     },
     "execution_count": 43,
     "metadata": {},
     "output_type": "execute_result"
    }
   ],
   "source": [
    "prod(A, dims=2) # Gives a column vector whose entries are the product\n",
    "                # over the rows of A"
   ]
  },
  {
   "cell_type": "markdown",
   "metadata": {},
   "source": [
    "### Eigenvalues and eigenvectors\n",
    "\n",
    "We now move to the spectral decomposition of a matrix, i.e. the factorization of a matrix into a canonical form, whereby the matrix is represented in terms of its eigenvalues and eigenvectors."
   ]
  },
  {
   "cell_type": "code",
   "execution_count": 44,
   "metadata": {},
   "outputs": [
    {
     "data": {
      "text/plain": [
       "3×3 Array{Float64,2}:\n",
       " 0.484237  0.511716  0.786574\n",
       " 0.511716  1.80833   1.23226 \n",
       " 0.786574  1.23226   1.43681 "
      ]
     },
     "execution_count": 44,
     "metadata": {},
     "output_type": "execute_result"
    }
   ],
   "source": [
    "# First of all we generate a symmetric matrix so that it is diagonizible\n",
    "A = rand(3,3)\n",
    "A = A+A'"
   ]
  },
  {
   "cell_type": "markdown",
   "metadata": {},
   "source": [
    "The function eigen( ) computes the eigenvalue decomposition of A, returning an Eigen factorization object F which contains the eigenvalues in F.values and the eigenvectors in the columns of the matrix F.vectors. (The kth eigenvector can be obtained from the slice F.vectors[:, k].)"
   ]
  },
  {
   "cell_type": "code",
   "execution_count": 45,
   "metadata": {},
   "outputs": [
    {
     "data": {
      "text/plain": [
       "Eigen{Float64,Float64,Array{Float64,2},Array{Float64,1}}\n",
       "eigenvalues:\n",
       "3-element Array{Float64,1}:\n",
       " 0.011451112433247425\n",
       " 0.5445416957430174  \n",
       " 3.173383447321176   \n",
       "eigenvectors:\n",
       "3×3 Array{Float64,2}:\n",
       " -0.786515   0.5281    -0.320163\n",
       " -0.180947  -0.692732  -0.698126\n",
       "  0.590468   0.491154  -0.640402"
      ]
     },
     "execution_count": 45,
     "metadata": {},
     "output_type": "execute_result"
    }
   ],
   "source": [
    "D,U = eigen(A)"
   ]
  },
  {
   "cell_type": "code",
   "execution_count": 46,
   "metadata": {},
   "outputs": [
    {
     "data": {
      "text/plain": [
       "3-element Array{Float64,1}:\n",
       " 0.011451112433247425\n",
       " 0.5445416957430174  \n",
       " 3.173383447321176   "
      ]
     },
     "execution_count": 46,
     "metadata": {},
     "output_type": "execute_result"
    }
   ],
   "source": [
    "D # is the column vector containing the eigenvalues of A"
   ]
  },
  {
   "cell_type": "code",
   "execution_count": 47,
   "metadata": {},
   "outputs": [
    {
     "data": {
      "text/plain": [
       "3×3 Array{Float64,2}:\n",
       " -0.786515   0.5281    -0.320163\n",
       " -0.180947  -0.692732  -0.698126\n",
       "  0.590468   0.491154  -0.640402"
      ]
     },
     "execution_count": 47,
     "metadata": {},
     "output_type": "execute_result"
    }
   ],
   "source": [
    "U # is the unitary matrix whose columns are the eigenvectors of A"
   ]
  },
  {
   "cell_type": "code",
   "execution_count": 48,
   "metadata": {},
   "outputs": [
    {
     "data": {
      "text/plain": [
       "3×3 Array{Float64,2}:\n",
       " 1.0          0.0          4.44089e-16\n",
       " 0.0          1.0          4.44089e-16\n",
       " 4.44089e-16  4.44089e-16  1.0        "
      ]
     },
     "execution_count": 48,
     "metadata": {},
     "output_type": "execute_result"
    }
   ],
   "source": [
    "# U is left unitary\n",
    "U'*U"
   ]
  },
  {
   "cell_type": "code",
   "execution_count": 49,
   "metadata": {},
   "outputs": [
    {
     "data": {
      "text/plain": [
       "3×3 Array{Float64,2}:\n",
       " 1.0           8.32667e-17   8.32667e-17\n",
       " 8.32667e-17   1.0          -1.11022e-16\n",
       " 8.32667e-17  -1.11022e-16   1.0        "
      ]
     },
     "execution_count": 49,
     "metadata": {},
     "output_type": "execute_result"
    }
   ],
   "source": [
    "# U is right unitary\n",
    "U*U'"
   ]
  },
  {
   "cell_type": "code",
   "execution_count": 50,
   "metadata": {},
   "outputs": [
    {
     "data": {
      "text/plain": [
       "3×3 Array{Float64,2}:\n",
       "  0.0114511    -4.27609e-16  -8.50015e-17\n",
       " -4.71845e-16   0.544542     -4.996e-16  \n",
       " -2.22045e-16  -4.44089e-16   3.17338    "
      ]
     },
     "execution_count": 50,
     "metadata": {},
     "output_type": "execute_result"
    }
   ],
   "source": [
    "# U diagonalizes A\n",
    "\n",
    "U'*A*U"
   ]
  },
  {
   "cell_type": "code",
   "execution_count": 51,
   "metadata": {},
   "outputs": [
    {
     "data": {
      "text/plain": [
       "3×3 Diagonal{Float64,Array{Float64,1}}:\n",
       " 0.0114511   ⋅         ⋅     \n",
       "  ⋅         0.544542   ⋅     \n",
       "  ⋅          ⋅        3.17338"
      ]
     },
     "execution_count": 51,
     "metadata": {},
     "output_type": "execute_result"
    }
   ],
   "source": [
    "# We can construct a diagonal matrix with the following\n",
    "\n",
    "B = Diagonal(D)"
   ]
  },
  {
   "cell_type": "markdown",
   "metadata": {},
   "source": [
    "### Singular value decomposition\n",
    "\n",
    "The most important numerical tool in matrix product states (MPS) is singular value decomposition (SVD) of matrices."
   ]
  },
  {
   "cell_type": "code",
   "execution_count": 52,
   "metadata": {},
   "outputs": [
    {
     "data": {
      "text/plain": [
       "3×4 Array{Float64,2}:\n",
       " 0.913543  0.127505  0.604555  0.633819\n",
       " 0.347842  0.660798  0.58411   0.425239\n",
       " 0.277367  0.566708  0.728906  0.271194"
      ]
     },
     "execution_count": 52,
     "metadata": {},
     "output_type": "execute_result"
    }
   ],
   "source": [
    "A = rand(3,4) # Generate a random DxD' matrix"
   ]
  },
  {
   "cell_type": "code",
   "execution_count": 53,
   "metadata": {},
   "outputs": [
    {
     "data": {
      "text/plain": [
       "SVD{Float64,Float64,Array{Float64,2}}\n",
       "U factor:\n",
       "3×3 Array{Float64,2}:\n",
       " 0.650005   0.757985   0.0543344\n",
       " 0.552299  -0.422088  -0.718893 \n",
       " 0.521977  -0.497293   0.692994 \n",
       "singular values:\n",
       "3-element Array{Float64,1}:\n",
       " 1.8005797429420514 \n",
       " 0.6572004833993864 \n",
       " 0.16319719912084163\n",
       "Vt factor:\n",
       "3×4 Array{Float64,2}:\n",
       "  0.516889    0.413004   0.608714   0.43786 \n",
       "  0.620358   -0.706159  -0.22943    0.2527  \n",
       " -0.0503124  -0.461959   0.723434  -0.510593"
      ]
     },
     "execution_count": 53,
     "metadata": {},
     "output_type": "execute_result"
    }
   ],
   "source": [
    "U, S, V = svd(A) # Computes the singular value decomposition of A"
   ]
  },
  {
   "cell_type": "code",
   "execution_count": 54,
   "metadata": {},
   "outputs": [
    {
     "data": {
      "text/plain": [
       "3-element Array{Float64,1}:\n",
       " 1.8005797429420514 \n",
       " 0.6572004833993864 \n",
       " 0.16319719912084163"
      ]
     },
     "execution_count": 54,
     "metadata": {},
     "output_type": "execute_result"
    }
   ],
   "source": [
    "# S is a diagonal positive-definite square matrix of dimension D_m x D_m (D_m = min(D,D'))\n",
    "# singular values are stored in descending order.\n",
    "# It is stored as a column vector.\n",
    "S"
   ]
  },
  {
   "cell_type": "code",
   "execution_count": 55,
   "metadata": {},
   "outputs": [
    {
     "data": {
      "text/plain": [
       "3×3 Array{Float64,2}:\n",
       " 0.650005   0.757985   0.0543344\n",
       " 0.552299  -0.422088  -0.718893 \n",
       " 0.521977  -0.497293   0.692994 "
      ]
     },
     "execution_count": 55,
     "metadata": {},
     "output_type": "execute_result"
    }
   ],
   "source": [
    "# U is a matrix of dimension D x D_m\n",
    "# U is left unitary: U'U = Identiyt, UU' != Identity\n",
    "U"
   ]
  },
  {
   "cell_type": "code",
   "execution_count": 56,
   "metadata": {},
   "outputs": [
    {
     "data": {
      "text/plain": [
       "3×4 Array{Float64,2}:\n",
       "  0.516889    0.413004   0.608714   0.43786 \n",
       "  0.620358   -0.706159  -0.22943    0.2527  \n",
       " -0.0503124  -0.461959   0.723434  -0.510593"
      ]
     },
     "execution_count": 56,
     "metadata": {},
     "output_type": "execute_result"
    }
   ],
   "source": [
    "# Vt is a matrix of dimension D_m x D'\n",
    "# Vt is right unitary: VtV = Identity, VVt != Identity\n",
    "Vt = V'"
   ]
  },
  {
   "cell_type": "code",
   "execution_count": 57,
   "metadata": {},
   "outputs": [
    {
     "data": {
      "text/plain": [
       "3×4 Array{Float64,2}:\n",
       " -3.33067e-16  -2.77556e-17  0.0           0.0        \n",
       " -2.22045e-16   1.11022e-16  0.0          -1.66533e-16\n",
       " -5.55112e-17   1.11022e-16  1.11022e-16  -5.55112e-17"
      ]
     },
     "execution_count": 57,
     "metadata": {},
     "output_type": "execute_result"
    }
   ],
   "source": [
    "# The SVD is such that A = U*S*Vt\n",
    "U*Diagonal(S)*Vt - A"
   ]
  },
  {
   "cell_type": "markdown",
   "metadata": {},
   "source": [
    "### QR decomposition\n",
    "\n",
    "If we are not interested in singular values, we can perform QR decomposition of matrix A.\n",
    "This is done for example when transforming tensors into canonical form."
   ]
  },
  {
   "cell_type": "code",
   "execution_count": 58,
   "metadata": {},
   "outputs": [
    {
     "data": {
      "text/plain": [
       "3×4 Array{Float64,2}:\n",
       " 0.231878  0.544946  0.186236  0.0355807\n",
       " 0.540722  0.665733  0.416912  0.635837 \n",
       " 0.61453   0.813693  0.156882  0.979311 "
      ]
     },
     "execution_count": 58,
     "metadata": {},
     "output_type": "execute_result"
    }
   ],
   "source": [
    "A = rand(3,4) # Generate a DxD' matrix"
   ]
  },
  {
   "cell_type": "code",
   "execution_count": 59,
   "metadata": {},
   "outputs": [
    {
     "data": {
      "text/plain": [
       "LinearAlgebra.QRCompactWY{Float64,Array{Float64,2}}\n",
       "Q factor:\n",
       "3×3 LinearAlgebra.QRCompactWYQ{Float64,Array{Float64,2}}:\n",
       " -0.272554   0.950281   -0.150601\n",
       " -0.635574  -0.295338   -0.713317\n",
       " -0.72233   -0.0986991   0.684469\n",
       "R factor:\n",
       "3×4 Array{Float64,2}:\n",
       " -0.850762  -1.1594    -0.429059   -1.1212  \n",
       "  0.0        0.240925   0.0383621  -0.250633\n",
       "  0.0        0.0       -0.218057    0.211396"
      ]
     },
     "execution_count": 59,
     "metadata": {},
     "output_type": "execute_result"
    }
   ],
   "source": [
    "Q, R = qr(A)"
   ]
  },
  {
   "cell_type": "code",
   "execution_count": 60,
   "metadata": {},
   "outputs": [
    {
     "data": {
      "text/plain": [
       "3×3 LinearAlgebra.QRCompactWYQ{Float64,Array{Float64,2}}:\n",
       " -0.272554   0.950281   -0.150601\n",
       " -0.635574  -0.295338   -0.713317\n",
       " -0.72233   -0.0986991   0.684469"
      ]
     },
     "execution_count": 60,
     "metadata": {},
     "output_type": "execute_result"
    }
   ],
   "source": [
    "# Q is a DxD unitary matrix (Q*Q'=Q'Q=Identity)\n",
    "Q"
   ]
  },
  {
   "cell_type": "code",
   "execution_count": 61,
   "metadata": {},
   "outputs": [
    {
     "data": {
      "text/plain": [
       "3×4 Array{Float64,2}:\n",
       " -0.850762  -1.1594    -0.429059   -1.1212  \n",
       "  0.0        0.240925   0.0383621  -0.250633\n",
       "  0.0        0.0       -0.218057    0.211396"
      ]
     },
     "execution_count": 61,
     "metadata": {},
     "output_type": "execute_result"
    }
   ],
   "source": [
    "# R is an upper-triangular DxD' matrix \n",
    "R"
   ]
  },
  {
   "cell_type": "code",
   "execution_count": 62,
   "metadata": {},
   "outputs": [
    {
     "data": {
      "text/plain": [
       "3×4 Array{Float64,2}:\n",
       " 0.0          6.66134e-16  2.22045e-16  2.22045e-16\n",
       " 0.0          3.33067e-16  1.11022e-16  3.33067e-16\n",
       " 1.11022e-16  4.44089e-16  1.38778e-16  2.22045e-16"
      ]
     },
     "execution_count": 62,
     "metadata": {},
     "output_type": "execute_result"
    }
   ],
   "source": [
    "# The QR decomposition is such that\n",
    "Q*R - A"
   ]
  }
 ],
 "metadata": {
  "kernelspec": {
   "display_name": "Julia 1.3.1",
   "language": "julia",
   "name": "julia-1.3"
  },
  "language_info": {
   "file_extension": ".jl",
   "mimetype": "application/julia",
   "name": "julia",
   "version": "1.3.1"
  }
 },
 "nbformat": 4,
 "nbformat_minor": 4
}
