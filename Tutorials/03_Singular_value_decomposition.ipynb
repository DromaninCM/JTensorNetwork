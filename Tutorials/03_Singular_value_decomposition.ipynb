{
 "cells": [
  {
   "cell_type": "markdown",
   "metadata": {},
   "source": [
    "# Data compression throug Singular Value Decomposition (SVD)\n",
    "\n",
    "In this tutorial we will see how we can compress information through SVD.\n",
    "In order to do so we need the Images.jl package of Julia (https://juliaimages.org/latest/install/#sec_visualization).\n",
    "\n",
    "We will practice on an image located in Img/03/Marienplatz.jpg."
   ]
  },
  {
   "cell_type": "code",
   "execution_count": null,
   "metadata": {},
   "outputs": [],
   "source": [
    "# First of all, load Images, Linear algebra and PyPlot\n",
    "\n",
    "using Images, LinearAlgebra, PyPlot, Random"
   ]
  },
  {
   "cell_type": "code",
   "execution_count": null,
   "metadata": {},
   "outputs": [],
   "source": [
    "# Then load the image. Julia notebooks should automatically display it (remove the semicolumn ;)\n",
    "\n",
    "img_path = \"../Img/03/Marienplatz.jpg\"\n",
    "M = load(img_path);"
   ]
  },
  {
   "cell_type": "code",
   "execution_count": null,
   "metadata": {},
   "outputs": [],
   "source": [
    "# Get the size of M in megabytes\n",
    "size = round(Base.summarysize(M)*10^(-6); digits=2);\n",
    "#Get the type of M\n",
    "tp   = typeof(M);\n",
    "\n",
    "println(\"M is stored as $tp\")\n",
    "println(\"The size of M is $size Mb\")"
   ]
  },
  {
   "cell_type": "code",
   "execution_count": null,
   "metadata": {},
   "outputs": [],
   "source": [
    "# Convert M into an array of Float64 (double precision)\n",
    "M2 = convert(Array{Float64},M);\n",
    "# In order to display it with gray scale we now use (remove the semicolumn ;)\n",
    "Gray.(M2);"
   ]
  },
  {
   "cell_type": "code",
   "execution_count": null,
   "metadata": {},
   "outputs": [],
   "source": [
    "# We can check the new type and dimension of M2\n",
    "# Get the size of M2 in megabytes\n",
    "size = round(Base.summarysize(M2)*10^(-6); digits=2);\n",
    "#Get the type of M2\n",
    "tp   = typeof(M2);\n",
    "\n",
    "println(\"M2 is stored as $tp\")\n",
    "println(\"The size of M2 is $size Mb\")"
   ]
  },
  {
   "cell_type": "markdown",
   "metadata": {},
   "source": [
    "### SVD of the image\n",
    "\n",
    "First of all we will need to perform SVD on M2 and we will study the behaviour of the singular values"
   ]
  },
  {
   "cell_type": "code",
   "execution_count": null,
   "metadata": {},
   "outputs": [],
   "source": [
    "U, S, V = svd(M2);"
   ]
  },
  {
   "cell_type": "code",
   "execution_count": null,
   "metadata": {},
   "outputs": [],
   "source": [
    "# We can plot the singular values in order to see the exponential decay.\n",
    "\n",
    "title(\"Singular values\")\n",
    "xMin = 0.0;\n",
    "yMin = 0.0;\n",
    "xMax = 3500;\n",
    "yMax = 3000;\n",
    "dx = 500;\n",
    "dy = 500;\n",
    "xlim(xMin,xMax);\n",
    "ylim(yMin,yMax);\n",
    "xticks(xMin:dx:xMax);\n",
    "yticks(yMin:dy:yMax);\n",
    "ylabel(\"Magnitude\");\n",
    "grid(linewidth=0.5,color=\"black\",linestyle=\"dotted\",alpha=0.5);\n",
    "plot(S,linewidth=3.0,color=\"red\")"
   ]
  },
  {
   "cell_type": "markdown",
   "metadata": {},
   "source": [
    "### Singular value compression of the image\n",
    "\n",
    "Now we will take into account only a portion of the singular values and see up to which degree they are relevant for a proper rendering."
   ]
  },
  {
   "cell_type": "code",
   "execution_count": null,
   "metadata": {},
   "outputs": [],
   "source": [
    "# Keep only the first 10 singular values\n",
    "\n",
    "A = U[:,1:10]*Diagonal(S[1:10])*V[:,1:10]';\n",
    "Gray.(A);"
   ]
  },
  {
   "cell_type": "code",
   "execution_count": null,
   "metadata": {},
   "outputs": [],
   "source": [
    "# Keep only the first 30 singular values\n",
    "\n",
    "A = U[:,1:30]*Diagonal(S[1:30])*V[:,1:30]';\n",
    "Gray.(A);"
   ]
  },
  {
   "cell_type": "code",
   "execution_count": null,
   "metadata": {},
   "outputs": [],
   "source": [
    "# Keep only the first 100 singular values\n",
    "\n",
    "A = U[:,1:100]*Diagonal(S[1:100])*V[:,1:100]';\n",
    "Gray.(A);"
   ]
  },
  {
   "cell_type": "code",
   "execution_count": null,
   "metadata": {},
   "outputs": [],
   "source": [
    "# Keep only the first 300 singular values\n",
    "\n",
    "A = U[:,1:300]*Diagonal(S[1:300])*V[:,1:300]';\n",
    "Gray.(A);"
   ]
  },
  {
   "cell_type": "markdown",
   "metadata": {},
   "source": [
    "We can clearly see that with only 300 singular values we can reconstruct the image (quite) accurately, therefore with a reduction to the 10% of the total number of singular values."
   ]
  },
  {
   "cell_type": "markdown",
   "metadata": {},
   "source": [
    "# SVD in tensor diagrams\n",
    "\n",
    "The transformation of matrix product states (MPS) into the various canonical forms can be achieved via SVD.\n",
    "Indeed, as we have seen in Tutorial 02, the multiplication of rank-2 tensors (i.e. matrices) can be represented as tensor contractions. In this view, the SVD of a matrix is seen as the contraction of three rank-2 tensors:\n",
    "\n",
    "![title](../Img/03/03_01.png)\n",
    "\n",
    "Recall that:\n",
    "\n",
    "- T = USV<sup>+</sup>\n",
    "- U<sup>+</sup>U = I\n",
    "- v<sup>+</sup>V = I"
   ]
  },
  {
   "cell_type": "markdown",
   "metadata": {},
   "source": [
    "### Note: setting the seed for random number generation\n",
    "\n",
    "We can set the seed at the beginning of the computation in order to have the same result everytime we restart the computation from the beginning. This is done with the following command:"
   ]
  },
  {
   "cell_type": "code",
   "execution_count": 1,
   "metadata": {},
   "outputs": [],
   "source": [
    "using LinearAlgebra, Random\n",
    "\n",
    "# Initialize seed\n",
    "\n",
    "Random.seed!(1234);"
   ]
  },
  {
   "cell_type": "code",
   "execution_count": 2,
   "metadata": {},
   "outputs": [],
   "source": [
    "# Importing the contraction module\n",
    "include(\"../Tensor_modules/contract.jl\");"
   ]
  },
  {
   "cell_type": "markdown",
   "metadata": {},
   "source": [
    "## Generate random MPS\n",
    "\n",
    "As initial step we generate an MPS formed by N rank-3 tensors:\n",
    "\n",
    "![title](../Img/03/03_02.png)\n",
    "\n",
    "Note that the first and the last MPS have a dummy leg, this is done to ensure that every single matrix M is a rank-3 tensor."
   ]
  },
  {
   "cell_type": "code",
   "execution_count": 3,
   "metadata": {},
   "outputs": [],
   "source": [
    "## Initialization\n",
    "# Number of sites\n",
    "N = 50;\n",
    "# Physical bond dimension\n",
    "d = 3;\n",
    "# Virtual bond dimension\n",
    "D = 30;\n",
    "\n",
    "# Initializing the Tensors\n",
    "M = Vector{Union{Nothing, Array{Float64,3}}}(nothing, N); # Collection of N rank-3 tensors initialized to 'nothing'\n",
    "# Initialize norm_MPS\n",
    "norm_MPS = 0.0;\n",
    "\n",
    "# Assign random tensors. The order of the dimension is left-bottom-right\n",
    "for i in 1:N\n",
    "    if i==1\n",
    "        # First tensor has left dummy leg\n",
    "        M[i] = rand(1,d,D);\n",
    "    elseif i==N\n",
    "        # Last tensor has right dummy leg\n",
    "        M[i] = rand(D,d,1);\n",
    "    else\n",
    "        # Central tensors\n",
    "        M[i] = rand(D,d,D);\n",
    "    end\n",
    "end"
   ]
  },
  {
   "cell_type": "markdown",
   "metadata": {},
   "source": [
    "### Iterative transformation to LC\n",
    "\n",
    "We start from the leftmost site and we go to the rightmost iteratively applying the SVD. In particular, at the n-th step:\n",
    "\n",
    "M*M' = USV<sup>+</sup>M' = AM''\n",
    "\n",
    "where A = U and M'' = SV<sup>+</sup>M'. The new matrix A is left normalized because U is: A<sup>+</sup>A = U<sup>+</sup>U .\n",
    "\n",
    "In order to do so:\\\n",
    "1) Reshape M(D,d,D) so that it is a matrix M(D*d,D);\\\n",
    "2) Apply SVD to M(D*d,D);\\\n",
    "3) A = reshape U;\\\n",
    "4) Obtain M'' by contracting SVM'\\\n",
    "\n",
    "The SVD of the last tensor M{N} results in one singular value and one right singular vector (that has\n",
    "one element). The singular value is the norm of the MPS. And the right singular vector is an overall phase factor which does not change the physical content of quantum state."
   ]
  },
  {
   "cell_type": "code",
   "execution_count": 4,
   "metadata": {},
   "outputs": [],
   "source": [
    "for i in 1:N\n",
    "    T = M[i];\n",
    "    T = reshape(T, (size(T,1)*size(T,2), size(T,3)));\n",
    "    U,S,V = svd(T);\n",
    "    M[i] = reshape(U,(convert(Int,size(U,1)/size(M[i],2)), size(M[i],2), size(U,2)));\n",
    "    if i < N\n",
    "            M[i+1] = contract(Diagonal(S)*V',2,2,M[i+1],3,1);\n",
    "    end\n",
    "    if i == N\n",
    "        norm_MPS = S;\n",
    "    end\n",
    "end"
   ]
  },
  {
   "cell_type": "code",
   "execution_count": 5,
   "metadata": {},
   "outputs": [
    {
     "name": "stdout",
     "output_type": "stream",
     "text": [
      "Norm of MPS = [1.4728400250365303e69]\n"
     ]
    }
   ],
   "source": [
    "# We can then check the norm of the MPS by printing the last singular value\n",
    "\n",
    "println(\"Norm of MPS = $norm_MPS\")"
   ]
  },
  {
   "cell_type": "markdown",
   "metadata": {},
   "source": [
    "We have obtained a normalized left-canonical MPS:\n",
    "\n",
    "![title](../Img/03/03_03.png)"
   ]
  },
  {
   "cell_type": "markdown",
   "metadata": {},
   "source": [
    "### Iterative transformation to RC\n",
    "\n",
    "We start from the rightmost site to the leftmost site iteratively applying the SVD. In particular, at the n-th step:\n",
    "\n",
    "M*M' = MUSV<sup>+</sup> = M''B\n",
    "\n",
    "where B = V<sup>+</sup> and M'' = MUS. The new matrix B is right normalized because V<sup>+</sup> is: BB<sup>+</sup> = V<sup>+</sup>V .\n",
    "\n",
    "The difference with respect to the LC is that the direction of the arrows is reversed. Nevertheless, since we are not taking into account any symmetry up to now, this doesn't modify any computational step: the reverse of the arrow direction is just a way of keeping in mind how the tensors need to be contracted.\n",
    "\n",
    "The steps are the following:\\\n",
    "1) Reshape the last M(D,d,D) so that it is a matrix M(D,d*D);\\\n",
    "2) Apply SVD to M(D,d*D);\\\n",
    "3) B = reshape V<sup>+</sup>;\\\n",
    "4) Obtain M'' by contracting MUS\\"
   ]
  },
  {
   "cell_type": "code",
   "execution_count": 6,
   "metadata": {},
   "outputs": [],
   "source": [
    "for i in N:-1:1\n",
    "\n",
    "   T = M[i];\n",
    "      T = reshape(T, (size(T,1), size(T,2)*size(T,3)));\n",
    "      U,S,V = svd(T);\n",
    "      M[i] = reshape(V', (size(V,2), size(M[i],2), convert(Int,size(V,1)/size(M[i],2))));\n",
    "    if i > 1\n",
    "        M[i-1] = contract(M[i-1],3,3,U*Diagonal(S),2,1);\n",
    "    end\n",
    "    if i == 1\n",
    "        norm_MPS = S;\n",
    "    end\n",
    "end"
   ]
  },
  {
   "cell_type": "code",
   "execution_count": 7,
   "metadata": {},
   "outputs": [
    {
     "name": "stdout",
     "output_type": "stream",
     "text": [
      "Norm of MPS = [0.9999999999999979]\n"
     ]
    }
   ],
   "source": [
    "# We can then check the norm of the MPS by printing the last singular value\n",
    "\n",
    "println(\"Norm of MPS = $norm_MPS\")"
   ]
  },
  {
   "cell_type": "markdown",
   "metadata": {},
   "source": [
    "We have now obtained a right-canonical MPS. Morevoer, since we have started from a previously normalized MPS, the norm of the new RC MPS is 1."
   ]
  }
 ],
 "metadata": {
  "kernelspec": {
   "display_name": "Julia 1.3.1",
   "language": "julia",
   "name": "julia-1.3"
  },
  "language_info": {
   "file_extension": ".jl",
   "mimetype": "application/julia",
   "name": "julia",
   "version": "1.3.1"
  }
 },
 "nbformat": 4,
 "nbformat_minor": 4
}
