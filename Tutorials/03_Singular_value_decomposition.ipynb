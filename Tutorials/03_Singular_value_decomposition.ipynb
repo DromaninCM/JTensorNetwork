{
 "cells": [
  {
   "cell_type": "markdown",
   "metadata": {},
   "source": [
    "# Data compression throug Singular Value Decomposition (SVD)\n",
    "\n",
    "In this tutorial we will see how we can compress information through SVD.\n",
    "In order to do so we need the Images.jl package of Julia (https://juliaimages.org/latest/install/#sec_visualization).\n",
    "\n",
    "We will practice on an image located in Img/03/Marienplatz.jpg."
   ]
  },
  {
   "cell_type": "code",
   "execution_count": null,
   "metadata": {},
   "outputs": [],
   "source": [
    "# First of all, load Images, Linear algebra and PyPlot\n",
    "\n",
    "using Images, LinearAlgebra, PyPlot, Random"
   ]
  },
  {
   "cell_type": "code",
   "execution_count": null,
   "metadata": {},
   "outputs": [],
   "source": [
    "# Then load the image. Julia notebooks should automatically display it (remove the semicolumn ;)\n",
    "\n",
    "img_path = \"../Img/03/Marienplatz.jpg\"\n",
    "M = load(img_path);"
   ]
  },
  {
   "cell_type": "code",
   "execution_count": null,
   "metadata": {},
   "outputs": [],
   "source": [
    "# Get the size of M in megabytes\n",
    "size = round(Base.summarysize(M)*10^(-6); digits=2);\n",
    "#Get the type of M\n",
    "tp   = typeof(M);\n",
    "\n",
    "println(\"M is stored as $tp\")\n",
    "println(\"The size of M is $size Mb\")"
   ]
  },
  {
   "cell_type": "code",
   "execution_count": null,
   "metadata": {},
   "outputs": [],
   "source": [
    "# Convert M into an array of Float64 (double precision)\n",
    "M2 = convert(Array{Float64},M);\n",
    "# In order to display it with gray scale we now use (remove the semicolumn ;)\n",
    "Gray.(M2);"
   ]
  },
  {
   "cell_type": "code",
   "execution_count": null,
   "metadata": {},
   "outputs": [],
   "source": [
    "# We can check the new type and dimension of M2\n",
    "# Get the size of M2 in megabytes\n",
    "size = round(Base.summarysize(M2)*10^(-6); digits=2);\n",
    "#Get the type of M2\n",
    "tp   = typeof(M2);\n",
    "\n",
    "println(\"M2 is stored as $tp\")\n",
    "println(\"The size of M2 is $size Mb\")"
   ]
  },
  {
   "cell_type": "markdown",
   "metadata": {},
   "source": [
    "### SVD of the image\n",
    "\n",
    "First of all we will need to perform SVD on M2 and we will study the behaviour of the singular values"
   ]
  },
  {
   "cell_type": "code",
   "execution_count": null,
   "metadata": {},
   "outputs": [],
   "source": [
    "U, S, V = svd(M2);"
   ]
  },
  {
   "cell_type": "code",
   "execution_count": null,
   "metadata": {},
   "outputs": [],
   "source": [
    "# We can plot the singular values in order to see the exponential decay.\n",
    "\n",
    "title(\"Singular values\")\n",
    "xMin = 0.0;\n",
    "yMin = 0.0;\n",
    "xMax = 3500;\n",
    "yMax = 3000;\n",
    "dx = 500;\n",
    "dy = 500;\n",
    "xlim(xMin,xMax);\n",
    "ylim(yMin,yMax);\n",
    "xticks(xMin:dx:xMax);\n",
    "yticks(yMin:dy:yMax);\n",
    "ylabel(\"Magnitude\");\n",
    "grid(linewidth=0.5,color=\"black\",linestyle=\"dotted\",alpha=0.5);\n",
    "plot(S,linewidth=3.0,color=\"red\")"
   ]
  },
  {
   "cell_type": "markdown",
   "metadata": {},
   "source": [
    "### Singular value compression of the image\n",
    "\n",
    "Now we will take into account only a portion of the singular values and see up to which degree they are relevant for a proper rendering."
   ]
  },
  {
   "cell_type": "code",
   "execution_count": null,
   "metadata": {},
   "outputs": [],
   "source": [
    "# Keep only the first 10 singular values\n",
    "\n",
    "A = U[:,1:10]*Diagonal(S[1:10])*V[:,1:10]';\n",
    "Gray.(A);"
   ]
  },
  {
   "cell_type": "code",
   "execution_count": null,
   "metadata": {},
   "outputs": [],
   "source": [
    "# Keep only the first 30 singular values\n",
    "\n",
    "A = U[:,1:30]*Diagonal(S[1:30])*V[:,1:30]';\n",
    "Gray.(A);"
   ]
  },
  {
   "cell_type": "code",
   "execution_count": null,
   "metadata": {},
   "outputs": [],
   "source": [
    "# Keep only the first 100 singular values\n",
    "\n",
    "A = U[:,1:100]*Diagonal(S[1:100])*V[:,1:100]';\n",
    "Gray.(A);"
   ]
  },
  {
   "cell_type": "code",
   "execution_count": null,
   "metadata": {},
   "outputs": [],
   "source": [
    "# Keep only the first 300 singular values\n",
    "\n",
    "A = U[:,1:300]*Diagonal(S[1:300])*V[:,1:300]';\n",
    "Gray.(A);"
   ]
  },
  {
   "cell_type": "markdown",
   "metadata": {},
   "source": [
    "We can clearly see that with only 300 singular values we can reconstruct the image (quite) accurately, therefore with a reduction to the 10% of the total number of singular values."
   ]
  },
  {
   "cell_type": "markdown",
   "metadata": {},
   "source": [
    "# SVD in tensor diagrams\n",
    "\n",
    "The transformation of matrix product states (MPS) into the various canonical forms can be achieved via SVD.\n",
    "Indeed, as we have seen in Tutorial 02, the multiplication of rank-2 tensors (i.e. matrices) can be represented as tensor contractions. In this view, the SVD of a matrix is seen as the contraction of three rank-2 tensors:\n",
    "\n",
    "![title](../Img/03/03_01.png)\n",
    "\n",
    "Recall that:\n",
    "\n",
    "- T = USV<sup>+</sup>\n",
    "- U<sup>+</sup>U = I\n",
    "- v<sup>+</sup>V = I"
   ]
  },
  {
   "cell_type": "markdown",
   "metadata": {},
   "source": [
    "### Note: setting the seed for random number generation\n",
    "\n",
    "We can set the seed at the beginning of the computation in order to have the same result everytime we restart the computation from the beginning. This is done with the following command:"
   ]
  },
  {
   "cell_type": "code",
   "execution_count": 1,
   "metadata": {},
   "outputs": [],
   "source": [
    "using LinearAlgebra, Random, PyPlot\n",
    "\n",
    "# Initialize seed\n",
    "\n",
    "Random.seed!(1234);"
   ]
  },
  {
   "cell_type": "code",
   "execution_count": 2,
   "metadata": {},
   "outputs": [],
   "source": [
    "# Importing the contraction module\n",
    "include(\"../Tensor_modules/contract.jl\");"
   ]
  },
  {
   "cell_type": "markdown",
   "metadata": {},
   "source": [
    "## Generate random MPS\n",
    "\n",
    "As initial step we generate an MPS formed by N rank-3 tensors:\n",
    "\n",
    "![title](../Img/03/03_02.png)\n",
    "\n",
    "Note that the first and the last MPS have a dummy leg, this is done to ensure that every single matrix M is a rank-3 tensor."
   ]
  },
  {
   "cell_type": "code",
   "execution_count": 3,
   "metadata": {},
   "outputs": [],
   "source": [
    "## Initialization\n",
    "# Number of sites\n",
    "N = 50;\n",
    "# Physical bond dimension\n",
    "d = 3;\n",
    "# Virtual bond dimension\n",
    "D = 30;\n",
    "\n",
    "# Initializing the Tensors\n",
    "M = Vector{Union{Nothing, Array{Float64,3}}}(nothing, N); # Collection of N rank-3 tensors initialized to 'nothing'\n",
    "# Initialize norm_MPS\n",
    "norm_MPS = 0.0;\n",
    "\n",
    "# Assign random tensors. The order of the dimension is left-bottom-right\n",
    "for i in 1:N\n",
    "    if i==1\n",
    "        # First tensor has left dummy leg\n",
    "        M[i] = rand(1,d,D);\n",
    "    elseif i==N\n",
    "        # Last tensor has right dummy leg\n",
    "        M[i] = rand(D,d,1);\n",
    "    else\n",
    "        # Central tensors\n",
    "        M[i] = rand(D,d,D);\n",
    "    end\n",
    "end"
   ]
  },
  {
   "cell_type": "markdown",
   "metadata": {},
   "source": [
    "### Iterative transformation to LC\n",
    "\n",
    "We start from the leftmost site and we go to the rightmost iteratively applying the SVD. In particular, at the n-th step:\n",
    "\n",
    "M*M' = USV<sup>+</sup>M' = AM''\n",
    "\n",
    "where A = U and M'' = SV<sup>+</sup>M'. The new matrix A is left normalized because U is: A<sup>+</sup>A = U<sup>+</sup>U .\n",
    "\n",
    "In order to do so:\\\n",
    "1) Reshape M(D,d,D) so that it is a matrix M(D*d,D);\\\n",
    "2) Apply SVD to M(D*d,D);\\\n",
    "3) A = reshape U;\\\n",
    "4) Obtain M'' by contracting SVM'\\\n",
    "\n",
    "The SVD of the last tensor M{N} results in one singular value and one right singular vector (that has\n",
    "one element). The singular value is the norm of the MPS. And the right singular vector is an overall phase factor which does not change the physical content of quantum state."
   ]
  },
  {
   "cell_type": "code",
   "execution_count": 4,
   "metadata": {},
   "outputs": [],
   "source": [
    "for i in 1:N\n",
    "    T = M[i];\n",
    "    T = reshape(T, (size(T,1)*size(T,2), size(T,3)));\n",
    "    U,S,V = svd(T);\n",
    "    M[i] = reshape(U,(convert(Int,size(U,1)/size(M[i],2)), size(M[i],2), size(U,2)));\n",
    "    if i < N\n",
    "            M[i+1] = contract(Diagonal(S)*V',2,2,M[i+1],3,1);\n",
    "    end\n",
    "    if i == N\n",
    "        norm_MPS = S;\n",
    "    end\n",
    "end"
   ]
  },
  {
   "cell_type": "code",
   "execution_count": 5,
   "metadata": {},
   "outputs": [
    {
     "name": "stdout",
     "output_type": "stream",
     "text": [
      "Norm of MPS = [1.4728400250365303e69]\n"
     ]
    }
   ],
   "source": [
    "# We can then check the norm of the MPS by printing the last singular value\n",
    "\n",
    "println(\"Norm of MPS = $norm_MPS\")"
   ]
  },
  {
   "cell_type": "markdown",
   "metadata": {},
   "source": [
    "We have obtained a normalized left-canonical MPS:\n",
    "\n",
    "![title](../Img/03/03_03.png)"
   ]
  },
  {
   "cell_type": "markdown",
   "metadata": {},
   "source": [
    "### Iterative transformation to RC\n",
    "\n",
    "We start from the rightmost site to the leftmost site iteratively applying the SVD. In particular, at the n-th step:\n",
    "\n",
    "M*M' = MUSV<sup>+</sup> = M''B\n",
    "\n",
    "where B = V<sup>+</sup> and M'' = MUS. The new matrix B is right normalized because V<sup>+</sup> is: BB<sup>+</sup> = V<sup>+</sup>V .\n",
    "\n",
    "The difference with respect to the LC is that the direction of the arrows is reversed. Nevertheless, since we are not taking into account any symmetry up to now, this doesn't modify any computational step: the reverse of the arrow direction is just a way of keeping in mind how the tensors need to be contracted.\n",
    "\n",
    "The steps are the following:\\\n",
    "1) Reshape the last M(D,d,D) so that it is a matrix M(D,d*D);\\\n",
    "2) Apply SVD to M(D,d*D);\\\n",
    "3) B = reshape V<sup>+</sup>;\\\n",
    "4) Obtain M'' by contracting MUS\\"
   ]
  },
  {
   "cell_type": "code",
   "execution_count": 6,
   "metadata": {},
   "outputs": [],
   "source": [
    "for i in N:-1:1\n",
    "\n",
    "   T = M[i];\n",
    "      T = reshape(T, (size(T,1), size(T,2)*size(T,3)));\n",
    "      U,S,V = svd(T);\n",
    "      M[i] = reshape(V', (size(V,2), size(M[i],2), convert(Int,size(V,1)/size(M[i],2))));\n",
    "    if i > 1\n",
    "        M[i-1] = contract(M[i-1],3,3,U*Diagonal(S),2,1);\n",
    "    end\n",
    "    if i == 1\n",
    "        norm_MPS = S;\n",
    "    end\n",
    "end"
   ]
  },
  {
   "cell_type": "code",
   "execution_count": 7,
   "metadata": {},
   "outputs": [
    {
     "name": "stdout",
     "output_type": "stream",
     "text": [
      "Norm of MPS = [0.9999999999999979]\n"
     ]
    }
   ],
   "source": [
    "# We can then check the norm of the MPS by printing the last singular value\n",
    "\n",
    "println(\"Norm of MPS = $norm_MPS\")"
   ]
  },
  {
   "cell_type": "markdown",
   "metadata": {},
   "source": [
    "We have now obtained a right-canonical MPS. Morevoer, since we have started from a previously normalized MPS, the norm of the new RC MPS is 1."
   ]
  },
  {
   "cell_type": "markdown",
   "metadata": {},
   "source": [
    "### Module canonForm.jl\n",
    "\n",
    "We have included all the above steps into a new module, canonForm.jl, which brings a given MPS into left-, right- or bond-canonical form.\n",
    "\n",
    "In order to do so we can call:\n",
    "\n",
    " M,S,dw = canonForm(M,id [,Nkeep]);\n",
    "\n",
    "As input we give M and the index for the bond connecting the tensors M[id] and M[id+1]. With respect to the bond, the tensors to the left (right) are brought into the left-(right-)canonical form. If id == 0, the whole MPS will be in the right-canonical form.\n",
    "\n",
    "As an option, Nkeep keeps only the first Nkeep-ths singular values and their associated singular vectors at each iteration.\n",
    "\n",
    "For further information you can use ?."
   ]
  },
  {
   "cell_type": "code",
   "execution_count": 8,
   "metadata": {},
   "outputs": [],
   "source": [
    "# Load the module\n",
    "include(\"../Tensor_modules/canonForm.jl\");"
   ]
  },
  {
   "cell_type": "code",
   "execution_count": 9,
   "metadata": {},
   "outputs": [
    {
     "name": "stdout",
     "output_type": "stream",
     "text": [
      "search: \u001b[0m\u001b[1mc\u001b[22m\u001b[0m\u001b[1ma\u001b[22m\u001b[0m\u001b[1mn\u001b[22m\u001b[0m\u001b[1mo\u001b[22m\u001b[0m\u001b[1mn\u001b[22m\u001b[0m\u001b[1mF\u001b[22m\u001b[0m\u001b[1mo\u001b[22m\u001b[0m\u001b[1mr\u001b[22m\u001b[0m\u001b[1mm\u001b[22m\n",
      "\n"
     ]
    },
    {
     "data": {
      "text/latex": [
       "M,S,dw = canonForm(M,id [,Nkeep]);\n",
       "\n",
       "Obtain the canonical forms of MPS. It brings the tensors M\\{1\\}, ..., M\\{id\\}  into the left-canonical form and the others M\\{id+1\\}, ..., M\\{end\\} into the  right-canonical form.\n",
       "\n",
       "< Input >  M : [cell array] MPS of length numel(M). Each cell element is a rank-3        tensor, where the first, second, and third dimensions are        associated with left, bottom (i.e., local), and right legs,        respectively.  id : [integer] Index for the bond connecting the tensors M\\{id\\} and        M\\{id+1\\}. With respect to the bond, the tensors to the left        (right) are brought into the left-(right-)canonical form. If id ==        0, the whole MPS will be in the right-canonical form.\n",
       "\n",
       "< Option >  Nkeep : [integer] Maximum bond dimension. That is, only Nkeep the        singular values and their associated singular vectors are kept at        each iteration.\n",
       "\n",
       "< Output >  M : [cell array] Left-, right-, or bond-canonical form from input M,        depending on id, as follows:        * id == 0: right-canonical form        * id == numel(M): left-canonical form        * otherwise: bond-canonical form  S : [column vector] Singular values at the bond between M\\{id\\} and M\\{id+1\\}.   dw : [column vector] Vector of length numel(M)-1. dw(n) means the        discarded weight (i.e., the sum of the square of the singular          values that are discarded) at the bond between M\\{n\\} and M\\{n+1\\}.\n",
       "\n",
       "Written by S.Lee (Apr.30,2019)  Julia version by D. Romanin (November 4, 2020)\n",
       "\n"
      ],
      "text/markdown": [
       "M,S,dw = canonForm(M,id [,Nkeep]);\n",
       "\n",
       "Obtain the canonical forms of MPS. It brings the tensors M{1}, ..., M{id}  into the left-canonical form and the others M{id+1}, ..., M{end} into the  right-canonical form.\n",
       "\n",
       "< Input >  M : [cell array] MPS of length numel(M). Each cell element is a rank-3        tensor, where the first, second, and third dimensions are        associated with left, bottom (i.e., local), and right legs,        respectively.  id : [integer] Index for the bond connecting the tensors M{id} and        M{id+1}. With respect to the bond, the tensors to the left        (right) are brought into the left-(right-)canonical form. If id ==        0, the whole MPS will be in the right-canonical form.\n",
       "\n",
       "< Option >  Nkeep : [integer] Maximum bond dimension. That is, only Nkeep the        singular values and their associated singular vectors are kept at        each iteration.\n",
       "\n",
       "< Output >  M : [cell array] Left-, right-, or bond-canonical form from input M,        depending on id, as follows:        * id == 0: right-canonical form        * id == numel(M): left-canonical form        * otherwise: bond-canonical form  S : [column vector] Singular values at the bond between M{id} and M{id+1}.   dw : [column vector] Vector of length numel(M)-1. dw(n) means the        discarded weight (i.e., the sum of the square of the singular          values that are discarded) at the bond between M{n} and M{n+1}.\n",
       "\n",
       "Written by S.Lee (Apr.30,2019)  Julia version by D. Romanin (November 4, 2020)\n"
      ],
      "text/plain": [
       "  M,S,dw = canonForm(M,id [,Nkeep]);\n",
       "\n",
       "  Obtain the canonical forms of MPS. It brings the tensors M{1}, ..., M{id}\n",
       "  into the left-canonical form and the others M{id+1}, ..., M{end} into the\n",
       "  right-canonical form.\n",
       "\n",
       "  < Input > M : [cell array] MPS of length numel(M). Each cell element is a\n",
       "  rank-3 tensor, where the first, second, and third dimensions are associated\n",
       "  with left, bottom (i.e., local), and right legs, respectively. id :\n",
       "  [integer] Index for the bond connecting the tensors M{id} and M{id+1}. With\n",
       "  respect to the bond, the tensors to the left (right) are brought into the\n",
       "  left-(right-)canonical form. If id == 0, the whole MPS will be in the\n",
       "  right-canonical form.\n",
       "\n",
       "  < Option > Nkeep : [integer] Maximum bond dimension. That is, only Nkeep the\n",
       "  singular values and their associated singular vectors are kept at each\n",
       "  iteration.\n",
       "\n",
       "  < Output > M : [cell array] Left-, right-, or bond-canonical form from input\n",
       "  M, depending on id, as follows: * id == 0: right-canonical form * id ==\n",
       "  numel(M): left-canonical form * otherwise: bond-canonical form S : [column\n",
       "  vector] Singular values at the bond between M{id} and M{id+1}. dw : [column\n",
       "  vector] Vector of length numel(M)-1. dw(n) means the discarded weight (i.e.,\n",
       "  the sum of the square of the singular values that are discarded) at the bond\n",
       "  between M{n} and M{n+1}.\n",
       "\n",
       "  Written by S.Lee (Apr.30,2019) Julia version by D. Romanin (November 4,\n",
       "  2020)"
      ]
     },
     "execution_count": 9,
     "metadata": {},
     "output_type": "execute_result"
    }
   ],
   "source": [
    "? canonForm"
   ]
  },
  {
   "cell_type": "markdown",
   "metadata": {},
   "source": [
    "In order to show that it works, we redo the precedent steps using this module."
   ]
  },
  {
   "cell_type": "code",
   "execution_count": 10,
   "metadata": {},
   "outputs": [],
   "source": [
    "# Reset the seed\n",
    "Random.seed!(1234);\n",
    "\n",
    "## Re-initialize the MPS\n",
    "# Number of sites\n",
    "N = 50;\n",
    "# Physical bond dimension\n",
    "d = 3;\n",
    "# Virtual bond dimension\n",
    "D = 30;\n",
    "\n",
    "# Initializing the Tensors\n",
    "M = Vector{Union{Nothing, Array{Float64,3}}}(nothing, N); # Collection of N rank-3 tensors initialized to 'nothing'\n",
    "# Initialize norm_MPS\n",
    "norm_MPS = 0.0;\n",
    "\n",
    "# Assign random tensors. The order of the dimension is left-bottom-right\n",
    "for i in 1:N\n",
    "    if i==1\n",
    "        # First tensor has left dummy leg\n",
    "        M[i] = rand(1,d,D);\n",
    "    elseif i==N\n",
    "        # Last tensor has right dummy leg\n",
    "        M[i] = rand(D,d,1);\n",
    "    else\n",
    "        # Central tensors\n",
    "        M[i] = rand(D,d,D);\n",
    "    end\n",
    "end"
   ]
  },
  {
   "cell_type": "code",
   "execution_count": 11,
   "metadata": {},
   "outputs": [
    {
     "name": "stdout",
     "output_type": "stream",
     "text": [
      "The norm of the LC MPS is [1.4728400250365303e69]\n"
     ]
    }
   ],
   "source": [
    "# Bring to left-canonical by keeping all the singular values\n",
    "M, S, D = canonForm(M,length(M));\n",
    "\n",
    "# Check that the norm is as the one we computed in the precedent steps\n",
    "println(\"The norm of the LC MPS is $S\")"
   ]
  },
  {
   "cell_type": "code",
   "execution_count": 12,
   "metadata": {},
   "outputs": [
    {
     "name": "stdout",
     "output_type": "stream",
     "text": [
      "The norm of the LC MPS is [0.9999999999999979]\n"
     ]
    }
   ],
   "source": [
    "# Bring to right-canonical by keeping all the singular values\n",
    "M, S, D = canonForm(M,0);\n",
    "\n",
    "# Check that the norm is as the one we computed in the precedent steps\n",
    "println(\"The norm of the LC MPS is $S\")"
   ]
  },
  {
   "cell_type": "markdown",
   "metadata": {},
   "source": [
    "Everything works up to now.\n",
    "\n",
    "We now transform again to LC by discarding different numbers of singular values and see what happens to the norm."
   ]
  },
  {
   "cell_type": "code",
   "execution_count": 13,
   "metadata": {},
   "outputs": [],
   "source": [
    "Nkeeps = 5:30; # Different values of kept singular values\n",
    "\n",
    "Ss = zeros(length(Nkeeps),1); # Vector that will contain the norm as a function of Nkeep\n",
    "\n",
    "A = M[:]; # Copy M, so that it won't get overwritten\n",
    "\n",
    "for i in 1:length(Nkeeps)\n",
    "    M = A[:];\n",
    "    T, S, D = canonForm(M,length(M),Nkeeps[i])\n",
    "    Ss[i] = norm(S);\n",
    "end"
   ]
  },
  {
   "cell_type": "code",
   "execution_count": 14,
   "metadata": {},
   "outputs": [
    {
     "data": {
      "image/png": "[encoded data removed]",
      "text/plain": [
       "Figure(PyObject <Figure size 640x480 with 1 Axes>)"
      ]
     },
     "metadata": {},
     "output_type": "display_data"
    }
   ],
   "source": [
    "# Now plot the norm as a function of Nkeep\n",
    "\n",
    "title(\"Singular values\")\n",
    "xMin = 0.0;\n",
    "xMax = 30;\n",
    "dx = 5;\n",
    "xlim(xMin,xMax);\n",
    "xticks(xMin:dx:xMax);\n",
    "ylabel(\"Norm\");\n",
    "xlabel(\"Nkeep\")\n",
    "grid(linewidth=0.5,color=\"black\",linestyle=\"dotted\",alpha=0.5);\n",
    "plot(Nkeeps,Ss,linewidth=3.0,color=\"black\");"
   ]
  },
  {
   "cell_type": "markdown",
   "metadata": {},
   "source": [
    "The norm almost does not change. If you print S at each iteration, you will see that the largest singular value is almost unity, and the other singular values are much smaller than the largest one. Therefore, the truncation of such small singular values and their associated singular vectors barely affects the result."
   ]
  },
  {
   "cell_type": "markdown",
   "metadata": {},
   "source": [
    "We now start from the right-canonical MPS and bring it again to RC by truncating some singular values."
   ]
  },
  {
   "cell_type": "code",
   "execution_count": 15,
   "metadata": {},
   "outputs": [],
   "source": [
    "Ss = zeros(length(Nkeeps),1); # Vector that will contain the norm as a function of Nkeep\n",
    "\n",
    "for i in 1:length(Nkeeps)\n",
    "    M = A[:];\n",
    "    T, S, D = canonForm(M,0,Nkeeps[i])\n",
    "    Ss[i] = norm(S);\n",
    "end"
   ]
  },
  {
   "cell_type": "code",
   "execution_count": 16,
   "metadata": {},
   "outputs": [
    {
     "data": {
      "image/png": "[encoded data removed]",
      "text/plain": [
       "Figure(PyObject <Figure size 640x480 with 1 Axes>)"
      ]
     },
     "metadata": {},
     "output_type": "display_data"
    }
   ],
   "source": [
    "# Now plot the norm as a function of Nkeep\n",
    "\n",
    "title(\"Singular values\")\n",
    "xMin = 0.0;\n",
    "xMax = 30;\n",
    "dx = 5;\n",
    "xlim(xMin,xMax);\n",
    "xticks(xMin:dx:xMax);\n",
    "ylabel(\"Norm\");\n",
    "xlabel(\"Nkeep\")\n",
    "grid(linewidth=0.5,color=\"black\",linestyle=\"dotted\",alpha=0.5);\n",
    "plot(Nkeeps,Ss,linewidth=3.0,color=\"black\");"
   ]
  },
  {
   "cell_type": "markdown",
   "metadata": {},
   "source": [
    "The norm decreases exponentially, with decreasing Nkeep.Indeed, in the input M, all the tensors are already right-normalized, that is they are equivalent to the unitary matrices. The singular values of the unitary matrices are unity! So the truncation of such singular values result in the loss of information."
   ]
  },
  {
   "cell_type": "markdown",
   "metadata": {},
   "source": [
    "Now we bring it to bond-canonical form, say at site 25."
   ]
  },
  {
   "cell_type": "code",
   "execution_count": 17,
   "metadata": {},
   "outputs": [],
   "source": [
    "Ss = zeros(length(Nkeeps),1); # Vector that will contain the norm as a function of Nkeep\n",
    "\n",
    "for i in 1:length(Nkeeps)\n",
    "    M = A[:];\n",
    "    T, S, D = canonForm(M,25,Nkeeps[i])\n",
    "    Ss[i] = norm(S);\n",
    "end"
   ]
  },
  {
   "cell_type": "code",
   "execution_count": 18,
   "metadata": {},
   "outputs": [
    {
     "data": {
      "image/png": "[encoded data removed]",
      "text/plain": [
       "Figure(PyObject <Figure size 640x480 with 1 Axes>)"
      ]
     },
     "metadata": {},
     "output_type": "display_data"
    }
   ],
   "source": [
    "# Now plot the norm as a function of Nkeep\n",
    "\n",
    "title(\"Singular values\")\n",
    "xMin = 0.0;\n",
    "xMax = 30;\n",
    "dx = 5;\n",
    "xlim(xMin,xMax);\n",
    "xticks(xMin:dx:xMax);\n",
    "ylabel(\"Norm\");\n",
    "xlabel(\"Nkeep\")\n",
    "grid(linewidth=0.5,color=\"black\",linestyle=\"dotted\",alpha=0.5);\n",
    "plot(Nkeeps,Ss,linewidth=3.0,color=\"black\");"
   ]
  },
  {
   "cell_type": "markdown",
   "metadata": {},
   "source": [
    "The norm also decreases exponentially with decreasing Nkeep. It is because the right half of the MPS is brought again into the right-canonical form, with truncating large singular values."
   ]
  }
 ],
 "metadata": {
  "kernelspec": {
   "display_name": "Julia 1.3.1",
   "language": "julia",
   "name": "julia-1.3"
  },
  "language_info": {
   "file_extension": ".jl",
   "mimetype": "application/julia",
   "name": "julia",
   "version": "1.3.1"
  }
 },
 "nbformat": 4,
 "nbformat_minor": 4
}
