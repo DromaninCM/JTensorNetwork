{
 "cells": [
  {
   "cell_type": "markdown",
   "metadata": {},
   "source": [
    "# Tensor contraction\n",
    "\n",
    "Suppose we want to evaluate the following tensor contraction:\n",
    "\n",
    "![title](../Img/02/02_01.png)\n",
    "\n",
    "That is we have to contract the tensors with the same indices (or legs):\n",
    "\n",
    "T<sup>&alpha;</sup><sub>&beta;</sub> = A<sup>&delta;</sup><sub>&gamma;</sub>B<sup>&gamma;&alpha;</sup><sub>&mu;</sub>C<sup>&mu;</sup><sub>&delta;&beta;</sub>\n",
    "\n",
    "For now, we will not take into account the arrow direction so tensors will just be simple multidimensional arrays. Notice however that in physical context (e.g. bras, kets, symmetries) the arrow direction is important."
   ]
  },
  {
   "cell_type": "code",
   "execution_count": 1,
   "metadata": {},
   "outputs": [],
   "source": [
    "# Include the linear algebra module\n",
    "using LinearAlgebra"
   ]
  },
  {
   "cell_type": "markdown",
   "metadata": {},
   "source": [
    "First of all we, to show the method, we will consider the bond dimensions all equal to D = 2"
   ]
  },
  {
   "cell_type": "code",
   "execution_count": 2,
   "metadata": {},
   "outputs": [],
   "source": [
    "Da = 2; # α dimension\n",
    "Db = 2; # β dimension\n",
    "Dg = 2; # γ dimension\n",
    "Dd = 2; # δ dimension\n",
    "Dm = 2; # μ dimension"
   ]
  },
  {
   "cell_type": "markdown",
   "metadata": {},
   "source": [
    "Next generate random tensors:"
   ]
  },
  {
   "cell_type": "code",
   "execution_count": 3,
   "metadata": {},
   "outputs": [
    {
     "data": {
      "text/plain": [
       "2×2 Array{Float64,2}:\n",
       " 0.4456    0.243103\n",
       " 0.555302  0.122862"
      ]
     },
     "execution_count": 3,
     "metadata": {},
     "output_type": "execute_result"
    }
   ],
   "source": [
    "A = rand(Dg,Dd) # Tensor A(γ,δ)"
   ]
  },
  {
   "cell_type": "code",
   "execution_count": 4,
   "metadata": {},
   "outputs": [
    {
     "data": {
      "text/plain": [
       "2×2×2 Array{Float64,3}:\n",
       "[:, :, 1] =\n",
       " 0.0472228  0.338458\n",
       " 0.264855   0.823525\n",
       "\n",
       "[:, :, 2] =\n",
       " 0.723074  0.187905\n",
       " 0.17044   0.343948"
      ]
     },
     "execution_count": 4,
     "metadata": {},
     "output_type": "execute_result"
    }
   ],
   "source": [
    "B = rand(Da,Dm,Dg) # Tensor B(α,μ,γ)"
   ]
  },
  {
   "cell_type": "code",
   "execution_count": 5,
   "metadata": {},
   "outputs": [
    {
     "data": {
      "text/plain": [
       "2×2×2 Array{Float64,3}:\n",
       "[:, :, 1] =\n",
       " 0.718717  0.194719\n",
       " 0.457629  0.890089\n",
       "\n",
       "[:, :, 2] =\n",
       " 0.270973  0.929774\n",
       " 0.743945  0.656962"
      ]
     },
     "execution_count": 5,
     "metadata": {},
     "output_type": "execute_result"
    }
   ],
   "source": [
    "C = rand(Db,Dm,Dd) # Tensor C(β,μ,δ)"
   ]
  },
  {
   "cell_type": "markdown",
   "metadata": {},
   "source": [
    "### Contraction of C and B\n",
    "\n",
    "Suppose that we want to contract C and B. In order to do so with standard linear algebra, we need to transform C and B into matrices. Notice that C and B are contracted via the &mu; index.\n",
    "\n",
    "So the steps are:"
   ]
  },
  {
   "cell_type": "code",
   "execution_count": 6,
   "metadata": {},
   "outputs": [
    {
     "data": {
      "text/plain": [
       "2×2×2 Array{Float64,3}:\n",
       "[:, :, 1] =\n",
       " 0.0472228  0.723074\n",
       " 0.264855   0.17044 \n",
       "\n",
       "[:, :, 2] =\n",
       " 0.338458  0.187905\n",
       " 0.823525  0.343948"
      ]
     },
     "execution_count": 6,
     "metadata": {},
     "output_type": "execute_result"
    }
   ],
   "source": [
    "# Permute the indices of B so that:\n",
    "# B(α,μ,γ) -> B(α,γ,μ)\n",
    "\n",
    "B1 = permutedims(B,[1,3,2])"
   ]
  },
  {
   "cell_type": "code",
   "execution_count": 7,
   "metadata": {},
   "outputs": [
    {
     "data": {
      "text/plain": [
       "4×2 Array{Float64,2}:\n",
       " 0.0472228  0.338458\n",
       " 0.264855   0.823525\n",
       " 0.723074   0.187905\n",
       " 0.17044    0.343948"
      ]
     },
     "execution_count": 7,
     "metadata": {},
     "output_type": "execute_result"
    }
   ],
   "source": [
    "# Reshape the B tensor so that it is a matrix\n",
    "# B(α,γ,μ) --> B(α*γ,μ)\n",
    "\n",
    "B1 = reshape(B1,(Da*Dg,Dm))"
   ]
  },
  {
   "cell_type": "code",
   "execution_count": 8,
   "metadata": {},
   "outputs": [
    {
     "data": {
      "text/plain": [
       "2×2×2 Array{Float64,3}:\n",
       "[:, :, 1] =\n",
       " 0.718717  0.457629\n",
       " 0.194719  0.890089\n",
       "\n",
       "[:, :, 2] =\n",
       " 0.270973  0.743945\n",
       " 0.929774  0.656962"
      ]
     },
     "execution_count": 8,
     "metadata": {},
     "output_type": "execute_result"
    }
   ],
   "source": [
    "# Permute the indices of C so that:\n",
    "# C(β,μ,δ) -> C(μ,β,δ)\n",
    "\n",
    "C1 = permutedims(C,[2,1,3])"
   ]
  },
  {
   "cell_type": "code",
   "execution_count": 9,
   "metadata": {},
   "outputs": [
    {
     "data": {
      "text/plain": [
       "2×4 Array{Float64,2}:\n",
       " 0.718717  0.457629  0.270973  0.743945\n",
       " 0.194719  0.890089  0.929774  0.656962"
      ]
     },
     "execution_count": 9,
     "metadata": {},
     "output_type": "execute_result"
    }
   ],
   "source": [
    "# Reshape the C tensor so that it is a matrix\n",
    "# C(μ,β,δ) --> C(μ,β*δ)\n",
    "\n",
    "C1 = reshape(C1,(Dm,Db*Dd))"
   ]
  },
  {
   "cell_type": "code",
   "execution_count": 10,
   "metadata": {},
   "outputs": [
    {
     "data": {
      "text/plain": [
       "4×4 Array{Float64,2}:\n",
       " 0.099844  0.322869  0.327486  0.257485\n",
       " 0.350711  0.854216  0.83746   0.738061\n",
       " 0.556275  0.498152  0.370642  0.661374\n",
       " 0.189471  0.384143  0.365978  0.352759"
      ]
     },
     "execution_count": 10,
     "metadata": {},
     "output_type": "execute_result"
    }
   ],
   "source": [
    "# Contract B and C via matrix multiplication\n",
    "\n",
    "BC = B1*C1"
   ]
  },
  {
   "cell_type": "markdown",
   "metadata": {},
   "source": [
    "We now have a matrix with combined indices BC(&alpha;&gamma;,&beta;&delta;) and we reshape it into a tensor BC(&alpha;,&gamma;,&beta;,&delta;)"
   ]
  },
  {
   "cell_type": "code",
   "execution_count": 11,
   "metadata": {},
   "outputs": [
    {
     "data": {
      "text/plain": [
       "2×2×2×2 Array{Float64,4}:\n",
       "[:, :, 1, 1] =\n",
       " 0.099844  0.556275\n",
       " 0.350711  0.189471\n",
       "\n",
       "[:, :, 2, 1] =\n",
       " 0.322869  0.498152\n",
       " 0.854216  0.384143\n",
       "\n",
       "[:, :, 1, 2] =\n",
       " 0.327486  0.370642\n",
       " 0.83746   0.365978\n",
       "\n",
       "[:, :, 2, 2] =\n",
       " 0.257485  0.661374\n",
       " 0.738061  0.352759"
      ]
     },
     "execution_count": 11,
     "metadata": {},
     "output_type": "execute_result"
    }
   ],
   "source": [
    "# Reshape the BC matrix so that it is a tensor\n",
    "# BC(α*γ,β*δ) --> BC(α,γ,β,δ)\n",
    "\n",
    "BC = reshape(BC,(Da,Dg,Db,Dd))"
   ]
  },
  {
   "cell_type": "markdown",
   "metadata": {},
   "source": [
    "We now have to contract the BC tensor with the A matrix (rank-2 tensor).\n",
    "In order to do so we reshape BC into a matrix and A into a vector."
   ]
  },
  {
   "cell_type": "code",
   "execution_count": 12,
   "metadata": {},
   "outputs": [
    {
     "data": {
      "text/plain": [
       "2×2×2×2 Array{Float64,4}:\n",
       "[:, :, 1, 1] =\n",
       " 0.099844  0.322869\n",
       " 0.350711  0.854216\n",
       "\n",
       "[:, :, 2, 1] =\n",
       " 0.556275  0.498152\n",
       " 0.189471  0.384143\n",
       "\n",
       "[:, :, 1, 2] =\n",
       " 0.327486  0.257485\n",
       " 0.83746   0.738061\n",
       "\n",
       "[:, :, 2, 2] =\n",
       " 0.370642  0.661374\n",
       " 0.365978  0.352759"
      ]
     },
     "execution_count": 12,
     "metadata": {},
     "output_type": "execute_result"
    }
   ],
   "source": [
    "# Permute BC:\n",
    "# BC(α,γ,β,δ) --> BC(α,β,γ,δ)\n",
    "\n",
    "BC = permutedims(BC,[1,3,2,4])"
   ]
  },
  {
   "cell_type": "code",
   "execution_count": 13,
   "metadata": {},
   "outputs": [
    {
     "data": {
      "text/plain": [
       "4×4 Array{Float64,2}:\n",
       " 0.099844  0.556275  0.327486  0.370642\n",
       " 0.350711  0.189471  0.83746   0.365978\n",
       " 0.322869  0.498152  0.257485  0.661374\n",
       " 0.854216  0.384143  0.738061  0.352759"
      ]
     },
     "execution_count": 13,
     "metadata": {},
     "output_type": "execute_result"
    }
   ],
   "source": [
    "# Reshape the BC tensor so that it is a matrix\n",
    "# BC(α,β,γ,δ) --> BC(α*β,γ*δ)\n",
    "\n",
    "BC = reshape(BC,(Da*Db,Dg*Dd))"
   ]
  },
  {
   "cell_type": "code",
   "execution_count": 14,
   "metadata": {},
   "outputs": [
    {
     "data": {
      "text/plain": [
       "4-element Array{Float64,1}:\n",
       " 0.4455998024282619 \n",
       " 0.5553020192027764 \n",
       " 0.2431026908697531 \n",
       " 0.12286247821736929"
      ]
     },
     "execution_count": 14,
     "metadata": {},
     "output_type": "execute_result"
    }
   ],
   "source": [
    "# Reshape A into a vector\n",
    "\n",
    "A1 = A[:]"
   ]
  },
  {
   "cell_type": "code",
   "execution_count": 15,
   "metadata": {},
   "outputs": [
    {
     "data": {
      "text/plain": [
       "4-element Array{Float64,1}:\n",
       " 0.47854163222379653\n",
       " 0.5100446614659566 \n",
       " 0.564348108912592  \n",
       " 0.8167190296252382 "
      ]
     },
     "execution_count": 15,
     "metadata": {},
     "output_type": "execute_result"
    }
   ],
   "source": [
    "# Contract BC and A via matrix/vector multiplication\n",
    "\n",
    "T = BC*A1"
   ]
  },
  {
   "cell_type": "code",
   "execution_count": 16,
   "metadata": {},
   "outputs": [
    {
     "ename": "UndefVarError",
     "evalue": "UndefVarError: ABC1 not defined",
     "output_type": "error",
     "traceback": [
      "UndefVarError: ABC1 not defined",
      "",
      "Stacktrace:",
      " [1] top-level scope at In[16]:1"
     ]
    }
   ],
   "source": [
    "# Reshape the result into a matrix (rank-2 tensor)\n",
    "# T(α*β) --> T(α,β)\n",
    "\n",
    "T = reshape(ABC1,(Da,Db))"
   ]
  },
  {
   "cell_type": "markdown",
   "metadata": {},
   "source": [
    "### Order of contraction and computational time\n",
    "\n",
    "The result doesn't change if we change the order with which we contract tensors. However, there might be solutions for which certain contraction scheme speed-up the computation. We will now compare two different possibilities with the precedent tensor network."
   ]
  },
  {
   "cell_type": "code",
   "execution_count": 19,
   "metadata": {},
   "outputs": [
    {
     "name": "stdout",
     "output_type": "stream",
     "text": [
      "  0.000315 seconds (45 allocations: 505.313 KiB)\n"
     ]
    },
    {
     "data": {
      "text/plain": [
       "10×12 Array{Float64,2}:\n",
       " 557.62   562.384  552.59   576.619  …  540.375  593.337  597.322  596.675\n",
       " 553.6    543.857  542.306  568.663     530.995  592.97   590.73   584.98 \n",
       " 542.751  539.837  527.296  551.763     520.361  578.663  565.606  570.479\n",
       " 568.442  576.59   556.845  586.91      543.296  600.714  608.069  602.737\n",
       " 579.932  575.129  565.721  594.102     553.978  619.48   616.78   605.504\n",
       " 526.79   536.037  516.813  545.302  …  510.747  564.558  570.777  564.47 \n",
       " 572.117  563.396  552.294  582.394     547.217  603.363  610.768  602.605\n",
       " 555.157  545.932  539.397  562.685     525.443  589.336  591.213  583.974\n",
       " 512.638  514.219  505.043  529.99      495.154  547.748  547.123  546.594\n",
       " 557.867  555.03   545.682  572.293     531.388  593.517  592.153  588.874"
      ]
     },
     "execution_count": 19,
     "metadata": {},
     "output_type": "execute_result"
    }
   ],
   "source": [
    "# Solution 1 (the one we have already discussed)\n",
    "\n",
    "# Define the dimensions\n",
    "Da = 10; # α dimension\n",
    "Db = 12; # β dimension\n",
    "Dg = 14; # γ dimension\n",
    "Dd = 17; # δ dimension\n",
    "Dm = 20; # μ dimension\n",
    "\n",
    "# Initialize random matrices\n",
    "A = rand(Dg,Dd); # Tensor A(γ,δ)\n",
    "B = rand(Da,Dm,Dg); # Tensor B(α,μ,γ)\n",
    "C = rand(Db,Dm,Dd); # Tensor C(β,μ,δ)\n",
    "\n",
    "# Contract\n",
    "@time begin\n",
    "\n",
    "    # CONTRACT B and C\n",
    "    # B(α,μ,γ) -> B(α,γ,μ)\n",
    "    B1 = permutedims(B,[1,3,2]);\n",
    "    # B(α,γ,μ) --> B(α*γ,μ)\n",
    "    B1 = reshape(B1,(Da*Dg,Dm));\n",
    "    # C(β,μ,δ) -> C(μ,β,δ)\n",
    "    C1 = permutedims(C,[2,1,3]);\n",
    "    # C(μ,β,δ) --> C(μ,β*δ)\n",
    "    C1 = reshape(C1,(Dm,Db*Dd));\n",
    "    # Contract\n",
    "    BC = B1*C1;\n",
    "    # BC(α*γ,β*δ) --> BC(α,γ,β,δ)\n",
    "    BC = reshape(BC,(Da,Dg,Db,Dd));\n",
    "    \n",
    "    # CONTRACT BC and A\n",
    "    # BC(α,γ,β,δ) --> BC(α,β,γ,δ)\n",
    "    BC = permutedims(BC,[1,3,2,4]);\n",
    "    # BC(α,β,γ,δ) --> BC(α*β,γ*δ)\n",
    "    BC = reshape(BC,(Da*Db,Dg*Dd));\n",
    "    # Reshape A into a vector\n",
    "    A1 = A[:];\n",
    "    # Contract\n",
    "    T = BC*A1;\n",
    "    # T(α*β) --> T(α,β)\n",
    "    T = reshape(T,(Da,Db))\n",
    "    \n",
    "end"
   ]
  },
  {
   "cell_type": "code",
   "execution_count": 20,
   "metadata": {},
   "outputs": [
    {
     "name": "stdout",
     "output_type": "stream",
     "text": [
      "  0.000146 seconds (34 allocations: 82.719 KiB)\n"
     ]
    },
    {
     "data": {
      "text/plain": [
       "10×12 Array{Float64,2}:\n",
       " 606.233  582.672  644.923  583.293  …  568.783  584.15   607.976  592.566\n",
       " 653.463  631.278  690.173  626.105     605.109  625.907  649.883  648.001\n",
       " 611.825  588.412  645.721  587.409     566.52   583.359  607.707  600.158\n",
       " 613.098  581.764  645.146  581.857     567.241  578.24   605.306  596.54 \n",
       " 681.56   654.732  718.345  652.464     629.726  649.488  675.983  666.88 \n",
       " 626.856  598.391  659.692  591.918  …  575.3    592.633  624.273  610.409\n",
       " 611.253  585.024  648.307  587.941     567.039  581.443  606.749  598.425\n",
       " 614.047  593.068  651.598  595.44      575.856  589.171  615.007  613.47 \n",
       " 610.698  578.216  630.339  580.989     561.994  569.982  597.471  588.401\n",
       " 585.459  559.386  617.024  565.864     540.364  547.059  580.233  571.7  "
      ]
     },
     "execution_count": 20,
     "metadata": {},
     "output_type": "execute_result"
    }
   ],
   "source": [
    "# Solution 2: first contract A and C, then AC and B\n",
    "\n",
    "# Define the dimensions\n",
    "Da = 10; # α dimension\n",
    "Db = 12; # β dimension\n",
    "Dg = 14; # γ dimension\n",
    "Dd = 17; # δ dimension\n",
    "Dm = 20; # μ dimension\n",
    "\n",
    "# Initialize random matrices\n",
    "A = rand(Dg,Dd); # Tensor A(γ,δ)\n",
    "B = rand(Da,Dm,Dg); # Tensor B(α,μ,γ)\n",
    "C = rand(Db,Dm,Dd); # Tensor C(β,μ,δ)\n",
    "\n",
    "# Contract\n",
    "@time begin\n",
    "\n",
    "    # CONTRACT A and C\n",
    "    # C(β,μ,δ) -> C(δ,μ,β)\n",
    "    C1 = permutedims(C,[3,2,1]);\n",
    "    # C(δ,μ,β) --> C(δ,μ*β)\n",
    "    C1 = reshape(C1,(Dd,Dm*Db));\n",
    "    # Contract\n",
    "    AC = A*C1;\n",
    "    # AC(γ,μ*β) --> AC(γ,μ,β)\n",
    "    AC = reshape(AC,(Dg,Dm,Db));\n",
    "    \n",
    "    # CONTRACT AC and A\n",
    "    # AC(γ,μ,β) --> AC(γ*μ,β)\n",
    "    AC = reshape(AC,(Dg*Dm,Db));\n",
    "    # B(α,μ,γ) --> B(α,γ,μ)\n",
    "    B1 = permutedims(B,[1,3,2])\n",
    "    # B(α,γ,μ) --> B(α,γ*μ)\n",
    "    B1 = reshape(B1,(Da,Dm*Dg));\n",
    "    # Contract\n",
    "    T = B1*AC;\n",
    "    # T(α*β) --> T(α,β)\n",
    "    T = reshape(T,(Da,Db));\n",
    "    \n",
    "end"
   ]
  },
  {
   "cell_type": "code",
   "execution_count": 21,
   "metadata": {},
   "outputs": [
    {
     "name": "stdout",
     "output_type": "stream",
     "text": [
      "Solution 1: Contract B and C, then contract BC and A\n",
      "  0.000341 seconds (46 allocations: 505.359 KiB)\n",
      "Solution 2: first contract A and C, then AC and B\n",
      "  0.000077 seconds (35 allocations: 82.766 KiB)\n",
      "The absolute error is: 2.114575181622058e-11\n",
      "The absolute error is: 2.916809284298453e-16\n"
     ]
    }
   ],
   "source": [
    "# Compare results\n",
    "\n",
    "# Define the dimensions\n",
    "Da = 10; # α dimension\n",
    "Db = 12; # β dimension\n",
    "Dg = 14; # γ dimension\n",
    "Dd = 17; # δ dimension\n",
    "Dm = 20; # μ dimension\n",
    "\n",
    "# Initialize random matrices\n",
    "A  = rand(Dg,Dd); # Tensor A(γ,δ)\n",
    "B  = rand(Da,Dm,Dg); # Tensor B(α,μ,γ)\n",
    "C  = rand(Db,Dm,Dd); # Tensor C(β,μ,δ)\n",
    "\n",
    "println(\"Solution 1: Contract B and C, then contract BC and A\")\n",
    "@time begin\n",
    "    # CONTRACT B and C\n",
    "    # B(α,μ,γ) -> B(α,γ,μ)\n",
    "    B1 = permutedims(B,[1,3,2]);\n",
    "    # B(α,γ,μ) --> B(α*γ,μ)\n",
    "    B1 = reshape(B1,(Da*Dg,Dm));\n",
    "    # C(β,μ,δ) -> C(μ,β,δ)\n",
    "    C1 = permutedims(C,[2,1,3]);\n",
    "    # C(μ,β,δ) --> C(μ,β*δ)\n",
    "    C1 = reshape(C1,(Dm,Db*Dd));\n",
    "    # Contract\n",
    "    BC = B1*C1;\n",
    "    # BC(α*γ,β*δ) --> BC(α,γ,β,δ)\n",
    "    BC = reshape(BC,(Da,Dg,Db,Dd));\n",
    "    \n",
    "    # CONTRACT BC and A\n",
    "    # BC(α,γ,β,δ) --> BC(α,β,γ,δ)\n",
    "    BC = permutedims(BC,[1,3,2,4]);\n",
    "    # BC(α,β,γ,δ) --> BC(α*β,γ*δ)\n",
    "    BC = reshape(BC,(Da*Db,Dg*Dd));\n",
    "    # Reshape A into a vector\n",
    "    A1 = A[:];\n",
    "    # Contract\n",
    "    T1 = BC*A1;\n",
    "    # T(α*β) --> T(α,β)\n",
    "    T1 = reshape(T1,(Da,Db));\n",
    "end\n",
    "\n",
    "println(\"Solution 2: first contract A and C, then AC and B\")\n",
    "@time begin\n",
    "    # CONTRACT A and C\n",
    "    # C(β,μ,δ) -> C(δ,μ,β)\n",
    "    C1 = permutedims(C,[3,2,1]);\n",
    "    # C(δ,μ,β) --> C(δ,μ*β)\n",
    "    C1 = reshape(C1,(Dd,Dm*Db));\n",
    "    # Contract\n",
    "    AC = A*C1;\n",
    "    # AC(γ,μ*β) --> AC(γ,μ,β)\n",
    "    AC = reshape(AC,(Dg,Dm,Db));\n",
    "    \n",
    "    # CONTRACT AC and A\n",
    "    # AC(γ,μ,β) --> AC(γ*μ,β)\n",
    "    AC = reshape(AC,(Dg*Dm,Db));\n",
    "    # B(α,μ,γ) --> B(α,γ,μ)\n",
    "    B1 = permutedims(B,[1,3,2])\n",
    "    # B(α,γ,μ) --> B(α,γ*μ)\n",
    "    B1 = reshape(B1,(Da,Dm*Dg));\n",
    "    # Contract\n",
    "    T2 = B1*AC;\n",
    "    # T(α*β) --> T(α,β)\n",
    "    T2 = reshape(T2,(Da,Db));\n",
    "end\n",
    "\n",
    "# The absolute error is given by:\n",
    "absolute_error = sum(broadcast(abs,T1[:]-T2[:]));\n",
    "println(\"The absolute error is: $absolute_error\")\n",
    "\n",
    "relative_error =  sum(broadcast(abs, T1[:]-T2[:])./T1[:])/length(T1);\n",
    "println(\"The absolute error is: $relative_error\")"
   ]
  },
  {
   "cell_type": "markdown",
   "metadata": {},
   "source": [
    "As we can see, the second solution is faster than the first. This is due to computational complexity.\n",
    "For mor information, refer to the lectures given in the reference. Moreover, they provide the same solution up to the machine precision (~10^16)."
   ]
  }
 ],
 "metadata": {
  "kernelspec": {
   "display_name": "Julia 1.3.1",
   "language": "julia",
   "name": "julia-1.3"
  },
  "language_info": {
   "file_extension": ".jl",
   "mimetype": "application/julia",
   "name": "julia",
   "version": "1.3.1"
  }
 },
 "nbformat": 4,
 "nbformat_minor": 4
}
